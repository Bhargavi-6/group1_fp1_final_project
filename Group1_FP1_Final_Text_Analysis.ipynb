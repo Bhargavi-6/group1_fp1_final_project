{
 "cells": [
  {
   "cell_type": "code",
   "execution_count": 1,
   "id": "27822e9b",
   "metadata": {
    "scrolled": true,
    "tags": []
   },
   "outputs": [
    {
     "name": "stderr",
     "output_type": "stream",
     "text": [
      "[nltk_data] Downloading package stopwords to\n",
      "[nltk_data]     C:\\Users\\ADMIN\\AppData\\Roaming\\nltk_data...\n",
      "[nltk_data]   Package stopwords is already up-to-date!\n",
      "[nltk_data] Downloading package wordnet to\n",
      "[nltk_data]     C:\\Users\\ADMIN\\AppData\\Roaming\\nltk_data...\n",
      "[nltk_data]   Package wordnet is already up-to-date!\n",
      "[nltk_data] Downloading package omw-1.4 to\n",
      "[nltk_data]     C:\\Users\\ADMIN\\AppData\\Roaming\\nltk_data...\n",
      "[nltk_data]   Package omw-1.4 is already up-to-date!\n",
      "[nltk_data] Downloading package punkt to\n",
      "[nltk_data]     C:\\Users\\ADMIN\\AppData\\Roaming\\nltk_data...\n",
      "[nltk_data]   Package punkt is already up-to-date!\n",
      "[nltk_data] Downloading package averaged_perceptron_tagger to\n",
      "[nltk_data]     C:\\Users\\ADMIN\\AppData\\Roaming\\nltk_data...\n",
      "[nltk_data]   Package averaged_perceptron_tagger is already up-to-\n",
      "[nltk_data]       date!\n"
     ]
    },
    {
     "name": "stdout",
     "output_type": "stream",
     "text": [
      "Time taken to load/import libraries  3.42\n"
     ]
    }
   ],
   "source": [
    "#!pip install vaderSentiment\n",
    "#!pip install wordcloud\n",
    "#!pip install -U gensim\n",
    "#!pip install xgboost\n",
    "#!pip install plotly\n",
    "#!pip install textblob\n",
    "#!pip install seaborn\n",
    "#!pip install langdetect \n",
    "#!pip install google_trans_new\n",
    "import time\n",
    "t0 = time.time()\n",
    "import pandas as pd\n",
    "import numpy as np\n",
    "import re\n",
    "import string\n",
    "from bs4 import BeautifulSoup\n",
    "import matplotlib.pyplot as plt\n",
    "from nltk.stem.snowball import SnowballStemmer\n",
    "from sklearn.feature_extraction.text import TfidfVectorizer\n",
    "from vaderSentiment.vaderSentiment import SentimentIntensityAnalyzer\n",
    "from wordcloud import WordCloud\n",
    "from pprint import pprint\n",
    "\n",
    "# nltk\n",
    "import nltk\n",
    "nltk.download('stopwords')\n",
    "nltk.download('wordnet')\n",
    "nltk.download('omw-1.4')\n",
    "nltk.download('punkt')\n",
    "nltk.download('averaged_perceptron_tagger')\n",
    "from nltk.tokenize import word_tokenize\n",
    "from nltk import pos_tag\n",
    "from nltk.corpus import stopwords\n",
    "from nltk.corpus import wordnet\n",
    "from nltk.stem import WordNetLemmatizer\n",
    "\n",
    "# Gensim\n",
    "import gensim\n",
    "import gensim.corpora as corpora\n",
    "from gensim.utils import simple_preprocess\n",
    "from gensim.models import CoherenceModel\n",
    "\n",
    "import seaborn as sns\n",
    "\n",
    "from sklearn.decomposition import LatentDirichletAllocation\n",
    "from sklearn.feature_extraction.text import TfidfVectorizer\n",
    "from sklearn.feature_extraction.text import CountVectorizer\n",
    "from sklearn.model_selection import cross_val_score\n",
    "from sklearn.model_selection import train_test_split\n",
    "from sklearn.metrics import confusion_matrix\n",
    "from sklearn.feature_extraction.text import CountVectorizer\n",
    "from sklearn.feature_extraction.text import TfidfTransformer\n",
    "from sklearn.naive_bayes import MultinomialNB\n",
    "from sklearn.linear_model import LogisticRegression\n",
    "from sklearn.ensemble import RandomForestClassifier\n",
    "from sklearn.svm import SVC\n",
    "from sklearn import metrics\n",
    "from sklearn import model_selection, preprocessing, linear_model, naive_bayes, metrics, svm\n",
    "from sklearn.feature_extraction.text import TfidfVectorizer, CountVectorizer\n",
    "from sklearn.metrics.pairwise import cosine_similarity\n",
    "from sklearn import ensemble\n",
    "import xgboost, string \n",
    "import csv,nltk\n",
    "from sklearn.cluster import KMeans\n",
    "from sklearn.decomposition import NMF, LatentDirichletAllocation\n",
    "from sklearn.decomposition import PCA\n",
    "from sklearn.manifold import MDS\n",
    "from nltk.corpus import webtext\n",
    "from nltk.collocations import BigramCollocationFinder\n",
    "from nltk.metrics import BigramAssocMeasures\n",
    "from gensim.parsing.preprocessing import strip_punctuation, strip_tags, strip_numeric\n",
    "from nltk.stem.wordnet import WordNetLemmatizer   \n",
    "from nltk.corpus import stopwords\n",
    "import string\n",
    "import seaborn as sns\n",
    "import calendar\n",
    "\n",
    "from sklearn.decomposition import LatentDirichletAllocation\n",
    "from sklearn.feature_extraction.text import TfidfVectorizer\n",
    "from sklearn.feature_extraction.text import CountVectorizer\n",
    "from sklearn.model_selection import cross_val_score\n",
    "from sklearn.model_selection import train_test_split\n",
    "from sklearn.metrics import confusion_matrix\n",
    "from sklearn.feature_extraction.text import CountVectorizer\n",
    "from sklearn.feature_extraction.text import TfidfTransformer\n",
    "from sklearn.naive_bayes import MultinomialNB\n",
    "from sklearn.linear_model import LogisticRegression\n",
    "from sklearn.ensemble import RandomForestClassifier\n",
    "from sklearn.svm import SVC\n",
    "from sklearn import metrics\n",
    "from langdetect import detect\n",
    "from google_trans_new import google_translator \n",
    "\n",
    "t1 = time.time()\n",
    "print(\"Time taken to load/import libraries \", round(t1-t0,3))"
   ]
  },
  {
   "cell_type": "markdown",
   "id": "c44c94a2",
   "metadata": {
    "jp-MarkdownHeadingCollapsed": true,
    "tags": []
   },
   "source": [
    "# Business Understanding"
   ]
  },
  {
   "cell_type": "markdown",
   "id": "7bdd4618-3e09-4ac3-8778-832406b06966",
   "metadata": {},
   "source": [
    "- <h2>Preparedness for the forthcoming automobile product business opportunity</h2>"
   ]
  },
  {
   "cell_type": "markdown",
   "id": "11b45c35",
   "metadata": {
    "jp-MarkdownHeadingCollapsed": true,
    "tags": []
   },
   "source": [
    "# Business Objective"
   ]
  },
  {
   "cell_type": "markdown",
   "id": "99e40c0e",
   "metadata": {},
   "source": [
    "- <h2>Find the future trends and maximize the revenue</h2>"
   ]
  },
  {
   "cell_type": "markdown",
   "id": "dda43da1",
   "metadata": {
    "jp-MarkdownHeadingCollapsed": true,
    "tags": []
   },
   "source": [
    "# Github Link"
   ]
  },
  {
   "cell_type": "markdown",
   "id": "34fb367b",
   "metadata": {},
   "source": [
    "<h3> Please refer to the below Github link for entire code reference</h3>\n",
    "\n",
    "[Github Link](https://github.com/Bhargavi-6/group1_fp1_final_project.git)"
   ]
  },
  {
   "cell_type": "markdown",
   "id": "c372cef6",
   "metadata": {
    "tags": []
   },
   "source": [
    "# Reading/Loading Extracted Data\n",
    "\n",
    "<h3>The following are the list of car products that are extracted from amazon</h3>\n",
    "\n",
    "- <h4>Car Wheel</h4>\n",
    "- <h4>Car Engineoil</h4>\n",
    "- <h4>Car Fog Lamp</h4>\n",
    "- <h4>Car Seat Covers</h4>\n",
    "- <h4>Car Tyre</h4>\n",
    "- <h4>Car Windshield Washer</h4>\n",
    "- <h4>Car Wiper</h4>"
   ]
  },
  {
   "cell_type": "markdown",
   "id": "77396c0c",
   "metadata": {
    "jp-MarkdownHeadingCollapsed": true,
    "tags": []
   },
   "source": [
    "## Reading Car Wheels Data"
   ]
  },
  {
   "cell_type": "code",
   "execution_count": 2,
   "id": "324d2f1d",
   "metadata": {
    "scrolled": true
   },
   "outputs": [
    {
     "data": {
      "text/html": [
       "<div>\n",
       "<style scoped>\n",
       "    .dataframe tbody tr th:only-of-type {\n",
       "        vertical-align: middle;\n",
       "    }\n",
       "\n",
       "    .dataframe tbody tr th {\n",
       "        vertical-align: top;\n",
       "    }\n",
       "\n",
       "    .dataframe thead th {\n",
       "        text-align: right;\n",
       "    }\n",
       "</style>\n",
       "<table border=\"1\" class=\"dataframe\">\n",
       "  <thead>\n",
       "    <tr style=\"text-align: right;\">\n",
       "      <th></th>\n",
       "      <th>product_name</th>\n",
       "      <th>product_link</th>\n",
       "      <th>review_date</th>\n",
       "      <th>review_title</th>\n",
       "      <th>review_rating</th>\n",
       "      <th>review_comment</th>\n",
       "    </tr>\n",
       "  </thead>\n",
       "  <tbody>\n",
       "    <tr>\n",
       "      <th>0</th>\n",
       "      <td>TRD Tyre Stickers for Car - Tyre Tattoo</td>\n",
       "      <td>https://www.amazon.in/Tattoo-Premium-Unique-St...</td>\n",
       "      <td>Reviewed in India on 25 December 2021</td>\n",
       "      <td>\\nBest product from best people and the only g...</td>\n",
       "      <td>5.0 out of 5 stars</td>\n",
       "      <td>\\nIt's perfect and very beautiful and my 2nd p...</td>\n",
       "    </tr>\n",
       "    <tr>\n",
       "      <th>1</th>\n",
       "      <td>Tyre Tattoo 3D Premium &amp; Unique Rubber Tyre St...</td>\n",
       "      <td>https://www.amazon.in/Tattoo-Premium-Stickers-...</td>\n",
       "      <td>Reviewed in India on 10 September 2021</td>\n",
       "      <td>\\n100/100\\n</td>\n",
       "      <td>5.0 out of 5 stars</td>\n",
       "      <td>\\n\\n\\n\\n\\n                    The media could ...</td>\n",
       "    </tr>\n",
       "    <tr>\n",
       "      <th>2</th>\n",
       "      <td>Tyre Tattoo 3D Premium &amp; Unique Rubber Tyre St...</td>\n",
       "      <td>https://www.amazon.in/Tattoo-Premium-Stickers-...</td>\n",
       "      <td>Reviewed in India on 16 December 2021</td>\n",
       "      <td>\\nLooks aesthetically &amp; technically sound\\n</td>\n",
       "      <td>5.0 out of 5 stars</td>\n",
       "      <td>\\nPurchased from open market- Quality &amp; design...</td>\n",
       "    </tr>\n",
       "  </tbody>\n",
       "</table>\n",
       "</div>"
      ],
      "text/plain": [
       "                                        product_name  \\\n",
       "0            TRD Tyre Stickers for Car - Tyre Tattoo   \n",
       "1  Tyre Tattoo 3D Premium & Unique Rubber Tyre St...   \n",
       "2  Tyre Tattoo 3D Premium & Unique Rubber Tyre St...   \n",
       "\n",
       "                                        product_link  \\\n",
       "0  https://www.amazon.in/Tattoo-Premium-Unique-St...   \n",
       "1  https://www.amazon.in/Tattoo-Premium-Stickers-...   \n",
       "2  https://www.amazon.in/Tattoo-Premium-Stickers-...   \n",
       "\n",
       "                              review_date  \\\n",
       "0   Reviewed in India on 25 December 2021   \n",
       "1  Reviewed in India on 10 September 2021   \n",
       "2   Reviewed in India on 16 December 2021   \n",
       "\n",
       "                                        review_title       review_rating  \\\n",
       "0  \\nBest product from best people and the only g...  5.0 out of 5 stars   \n",
       "1                                        \\n100/100\\n  5.0 out of 5 stars   \n",
       "2        \\nLooks aesthetically & technically sound\\n  5.0 out of 5 stars   \n",
       "\n",
       "                                      review_comment  \n",
       "0  \\nIt's perfect and very beautiful and my 2nd p...  \n",
       "1  \\n\\n\\n\\n\\n                    The media could ...  \n",
       "2  \\nPurchased from open market- Quality & design...  "
      ]
     },
     "execution_count": 2,
     "metadata": {},
     "output_type": "execute_result"
    }
   ],
   "source": [
    "carwheel_df = pd.read_csv(\"amazon_carwheel.csv\")\n",
    "carwheel_df.head(3)"
   ]
  },
  {
   "cell_type": "markdown",
   "id": "93c05121",
   "metadata": {
    "jp-MarkdownHeadingCollapsed": true,
    "tags": []
   },
   "source": [
    "## Reading Engine Oil Data"
   ]
  },
  {
   "cell_type": "code",
   "execution_count": 3,
   "id": "959d8969",
   "metadata": {},
   "outputs": [
    {
     "data": {
      "text/html": [
       "<div>\n",
       "<style scoped>\n",
       "    .dataframe tbody tr th:only-of-type {\n",
       "        vertical-align: middle;\n",
       "    }\n",
       "\n",
       "    .dataframe tbody tr th {\n",
       "        vertical-align: top;\n",
       "    }\n",
       "\n",
       "    .dataframe thead th {\n",
       "        text-align: right;\n",
       "    }\n",
       "</style>\n",
       "<table border=\"1\" class=\"dataframe\">\n",
       "  <thead>\n",
       "    <tr style=\"text-align: right;\">\n",
       "      <th></th>\n",
       "      <th>product_name</th>\n",
       "      <th>product_link</th>\n",
       "      <th>review_date</th>\n",
       "      <th>review_title</th>\n",
       "      <th>review_rating</th>\n",
       "      <th>review_comment</th>\n",
       "    </tr>\n",
       "  </thead>\n",
       "  <tbody>\n",
       "    <tr>\n",
       "      <th>0</th>\n",
       "      <td>Mobil 1 Super 3000 Formula 5W-40 Fully Synthet...</td>\n",
       "      <td>https://www.amazon.in/Mobil-Super-Formula-Synt...</td>\n",
       "      <td>8 January 2019</td>\n",
       "      <td>good original mobil1 oil my petrol car engine ...</td>\n",
       "      <td>4</td>\n",
       "      <td>good oil from mobil1 used first time in my pet...</td>\n",
       "    </tr>\n",
       "    <tr>\n",
       "      <th>1</th>\n",
       "      <td>Mobil 1 Super 3000 Formula 5W-40 Fully Synthet...</td>\n",
       "      <td>https://www.amazon.in/Mobil-Super-Formula-Synt...</td>\n",
       "      <td>25 January 2020</td>\n",
       "      <td>true to its performance</td>\n",
       "      <td>5</td>\n",
       "      <td>tried the full synthetic engine oil for the fi...</td>\n",
       "    </tr>\n",
       "    <tr>\n",
       "      <th>2</th>\n",
       "      <td>Mobil 1 Super 3000 Formula 5W-40 Fully Synthet...</td>\n",
       "      <td>https://www.amazon.in/Mobil-Super-Formula-Synt...</td>\n",
       "      <td>18 September 2020</td>\n",
       "      <td>best engine oil</td>\n",
       "      <td>5</td>\n",
       "      <td>thankyou amazon this is the best value for mon...</td>\n",
       "    </tr>\n",
       "  </tbody>\n",
       "</table>\n",
       "</div>"
      ],
      "text/plain": [
       "                                        product_name  \\\n",
       "0  Mobil 1 Super 3000 Formula 5W-40 Fully Synthet...   \n",
       "1  Mobil 1 Super 3000 Formula 5W-40 Fully Synthet...   \n",
       "2  Mobil 1 Super 3000 Formula 5W-40 Fully Synthet...   \n",
       "\n",
       "                                        product_link        review_date  \\\n",
       "0  https://www.amazon.in/Mobil-Super-Formula-Synt...     8 January 2019   \n",
       "1  https://www.amazon.in/Mobil-Super-Formula-Synt...    25 January 2020   \n",
       "2  https://www.amazon.in/Mobil-Super-Formula-Synt...  18 September 2020   \n",
       "\n",
       "                                        review_title  review_rating  \\\n",
       "0  good original mobil1 oil my petrol car engine ...              4   \n",
       "1                           true to its performance               5   \n",
       "2                                   best engine oil               5   \n",
       "\n",
       "                                      review_comment  \n",
       "0  good oil from mobil1 used first time in my pet...  \n",
       "1  tried the full synthetic engine oil for the fi...  \n",
       "2  thankyou amazon this is the best value for mon...  "
      ]
     },
     "execution_count": 3,
     "metadata": {},
     "output_type": "execute_result"
    }
   ],
   "source": [
    "carengineoil_df = pd.read_csv(\"amazon_carengineoil.csv\")\n",
    "carengineoil_df.head(3)"
   ]
  },
  {
   "cell_type": "markdown",
   "id": "06e4fa89",
   "metadata": {
    "jp-MarkdownHeadingCollapsed": true,
    "tags": []
   },
   "source": [
    "## Reading Car Fog Lamp Data"
   ]
  },
  {
   "cell_type": "code",
   "execution_count": 4,
   "id": "403bb803",
   "metadata": {
    "scrolled": true
   },
   "outputs": [
    {
     "data": {
      "text/html": [
       "<div>\n",
       "<style scoped>\n",
       "    .dataframe tbody tr th:only-of-type {\n",
       "        vertical-align: middle;\n",
       "    }\n",
       "\n",
       "    .dataframe tbody tr th {\n",
       "        vertical-align: top;\n",
       "    }\n",
       "\n",
       "    .dataframe thead th {\n",
       "        text-align: right;\n",
       "    }\n",
       "</style>\n",
       "<table border=\"1\" class=\"dataframe\">\n",
       "  <thead>\n",
       "    <tr style=\"text-align: right;\">\n",
       "      <th></th>\n",
       "      <th>product_name</th>\n",
       "      <th>product_link</th>\n",
       "      <th>review_date</th>\n",
       "      <th>review_title</th>\n",
       "      <th>review_rating</th>\n",
       "      <th>review_comment</th>\n",
       "    </tr>\n",
       "  </thead>\n",
       "  <tbody>\n",
       "    <tr>\n",
       "      <th>0</th>\n",
       "      <td>FABTEC Car LED Focus High Power LED Bar Light ...</td>\n",
       "      <td>https://www.amazon.in/FABTEC-Focus-Light-Flood...</td>\n",
       "      <td>Reviewed in India on 28 September 2021</td>\n",
       "      <td>\\nGreat product\\n</td>\n",
       "      <td>3.0 out of 5 stars</td>\n",
       "      <td>\\n\\n\\n\\n\\n                    The media could ...</td>\n",
       "    </tr>\n",
       "    <tr>\n",
       "      <th>1</th>\n",
       "      <td>FABTEC Car LED Focus High Power LED Bar Light ...</td>\n",
       "      <td>https://www.amazon.in/FABTEC-Focus-Light-Flood...</td>\n",
       "      <td>Reviewed in India on 10 December 2021</td>\n",
       "      <td>\\nIf your car is old, so you can definitely us...</td>\n",
       "      <td>5.0 out of 5 stars</td>\n",
       "      <td>\\n\\n\\n\\n\\n                    The media could ...</td>\n",
       "    </tr>\n",
       "    <tr>\n",
       "      <th>2</th>\n",
       "      <td>FABTEC Car LED Focus High Power LED Bar Light ...</td>\n",
       "      <td>https://www.amazon.in/FABTEC-Focus-Light-Flood...</td>\n",
       "      <td>Reviewed in India on 21 July 2020</td>\n",
       "      <td>\\nOverall brightness is good. Centre light is ...</td>\n",
       "      <td>4.0 out of 5 stars</td>\n",
       "      <td>\\n\\n\\n\\n\\n                    The media could ...</td>\n",
       "    </tr>\n",
       "  </tbody>\n",
       "</table>\n",
       "</div>"
      ],
      "text/plain": [
       "                                        product_name  \\\n",
       "0  FABTEC Car LED Focus High Power LED Bar Light ...   \n",
       "1  FABTEC Car LED Focus High Power LED Bar Light ...   \n",
       "2  FABTEC Car LED Focus High Power LED Bar Light ...   \n",
       "\n",
       "                                        product_link  \\\n",
       "0  https://www.amazon.in/FABTEC-Focus-Light-Flood...   \n",
       "1  https://www.amazon.in/FABTEC-Focus-Light-Flood...   \n",
       "2  https://www.amazon.in/FABTEC-Focus-Light-Flood...   \n",
       "\n",
       "                              review_date  \\\n",
       "0  Reviewed in India on 28 September 2021   \n",
       "1   Reviewed in India on 10 December 2021   \n",
       "2       Reviewed in India on 21 July 2020   \n",
       "\n",
       "                                        review_title       review_rating  \\\n",
       "0                                  \\nGreat product\\n  3.0 out of 5 stars   \n",
       "1  \\nIf your car is old, so you can definitely us...  5.0 out of 5 stars   \n",
       "2  \\nOverall brightness is good. Centre light is ...  4.0 out of 5 stars   \n",
       "\n",
       "                                      review_comment  \n",
       "0  \\n\\n\\n\\n\\n                    The media could ...  \n",
       "1  \\n\\n\\n\\n\\n                    The media could ...  \n",
       "2  \\n\\n\\n\\n\\n                    The media could ...  "
      ]
     },
     "execution_count": 4,
     "metadata": {},
     "output_type": "execute_result"
    }
   ],
   "source": [
    "carfoglamp_df = pd.read_csv(\"amazon_carfoglamp.csv\")\n",
    "carfoglamp_df.head(3)"
   ]
  },
  {
   "cell_type": "markdown",
   "id": "ad2dacdf",
   "metadata": {
    "jp-MarkdownHeadingCollapsed": true,
    "tags": []
   },
   "source": [
    "## Reading Car Seat Cover Data"
   ]
  },
  {
   "cell_type": "code",
   "execution_count": 5,
   "id": "b994c3e5",
   "metadata": {
    "scrolled": true
   },
   "outputs": [
    {
     "data": {
      "text/html": [
       "<div>\n",
       "<style scoped>\n",
       "    .dataframe tbody tr th:only-of-type {\n",
       "        vertical-align: middle;\n",
       "    }\n",
       "\n",
       "    .dataframe tbody tr th {\n",
       "        vertical-align: top;\n",
       "    }\n",
       "\n",
       "    .dataframe thead th {\n",
       "        text-align: right;\n",
       "    }\n",
       "</style>\n",
       "<table border=\"1\" class=\"dataframe\">\n",
       "  <thead>\n",
       "    <tr style=\"text-align: right;\">\n",
       "      <th></th>\n",
       "      <th>product_name</th>\n",
       "      <th>product_link</th>\n",
       "      <th>review_date</th>\n",
       "      <th>review_title</th>\n",
       "      <th>review_rating</th>\n",
       "      <th>review_comment</th>\n",
       "    </tr>\n",
       "  </thead>\n",
       "  <tbody>\n",
       "    <tr>\n",
       "      <th>0</th>\n",
       "      <td>ROGER Cushport Synthetic Leather, Multi Suppor...</td>\n",
       "      <td>https://www.amazon.in/Roger-Cushport-Universal...</td>\n",
       "      <td>Reviewed in India on 19 July 2022</td>\n",
       "      <td>\\nLoved it\\n</td>\n",
       "      <td>5.0 out of 5 stars</td>\n",
       "      <td>\\nI purchased two for my Mahindra Bolero 2020 ...</td>\n",
       "    </tr>\n",
       "    <tr>\n",
       "      <th>1</th>\n",
       "      <td>ROGER Cushport Synthetic Leather, Multi Suppor...</td>\n",
       "      <td>https://www.amazon.in/Roger-Cushport-Universal...</td>\n",
       "      <td>Reviewed in India on 6 August 2022</td>\n",
       "      <td>\\nDoes not fit Honda Brio\\n</td>\n",
       "      <td>1.0 out of 5 stars</td>\n",
       "      <td>\\nProduct was said to be a universal fit. It w...</td>\n",
       "    </tr>\n",
       "    <tr>\n",
       "      <th>2</th>\n",
       "      <td>ROGER Cushport Synthetic Leather, Multi Suppor...</td>\n",
       "      <td>https://www.amazon.in/Roger-Cushport-Universal...</td>\n",
       "      <td>Reviewed in India on 27 July 2022</td>\n",
       "      <td>\\nGood quality\\n</td>\n",
       "      <td>5.0 out of 5 stars</td>\n",
       "      <td>\\nGood material and very comfortable pussing a...</td>\n",
       "    </tr>\n",
       "  </tbody>\n",
       "</table>\n",
       "</div>"
      ],
      "text/plain": [
       "                                        product_name  \\\n",
       "0  ROGER Cushport Synthetic Leather, Multi Suppor...   \n",
       "1  ROGER Cushport Synthetic Leather, Multi Suppor...   \n",
       "2  ROGER Cushport Synthetic Leather, Multi Suppor...   \n",
       "\n",
       "                                        product_link  \\\n",
       "0  https://www.amazon.in/Roger-Cushport-Universal...   \n",
       "1  https://www.amazon.in/Roger-Cushport-Universal...   \n",
       "2  https://www.amazon.in/Roger-Cushport-Universal...   \n",
       "\n",
       "                          review_date                 review_title  \\\n",
       "0   Reviewed in India on 19 July 2022                 \\nLoved it\\n   \n",
       "1  Reviewed in India on 6 August 2022  \\nDoes not fit Honda Brio\\n   \n",
       "2   Reviewed in India on 27 July 2022             \\nGood quality\\n   \n",
       "\n",
       "        review_rating                                     review_comment  \n",
       "0  5.0 out of 5 stars  \\nI purchased two for my Mahindra Bolero 2020 ...  \n",
       "1  1.0 out of 5 stars  \\nProduct was said to be a universal fit. It w...  \n",
       "2  5.0 out of 5 stars  \\nGood material and very comfortable pussing a...  "
      ]
     },
     "execution_count": 5,
     "metadata": {},
     "output_type": "execute_result"
    }
   ],
   "source": [
    "carseatcover_df = pd.read_csv(\"amazon_carseatcover.csv\")\n",
    "carseatcover_df.head(3)"
   ]
  },
  {
   "cell_type": "markdown",
   "id": "72897b6d",
   "metadata": {
    "jp-MarkdownHeadingCollapsed": true,
    "tags": []
   },
   "source": [
    "## Reading Car Tyre Data"
   ]
  },
  {
   "cell_type": "code",
   "execution_count": 6,
   "id": "5528b6ac",
   "metadata": {},
   "outputs": [
    {
     "data": {
      "text/html": [
       "<div>\n",
       "<style scoped>\n",
       "    .dataframe tbody tr th:only-of-type {\n",
       "        vertical-align: middle;\n",
       "    }\n",
       "\n",
       "    .dataframe tbody tr th {\n",
       "        vertical-align: top;\n",
       "    }\n",
       "\n",
       "    .dataframe thead th {\n",
       "        text-align: right;\n",
       "    }\n",
       "</style>\n",
       "<table border=\"1\" class=\"dataframe\">\n",
       "  <thead>\n",
       "    <tr style=\"text-align: right;\">\n",
       "      <th></th>\n",
       "      <th>product_name</th>\n",
       "      <th>product_link</th>\n",
       "      <th>review_date</th>\n",
       "      <th>review_title</th>\n",
       "      <th>review_rating</th>\n",
       "      <th>review_comment</th>\n",
       "    </tr>\n",
       "  </thead>\n",
       "  <tbody>\n",
       "    <tr>\n",
       "      <th>0</th>\n",
       "      <td>JK Tyre 165/80 R14 Taximax Tubeless Car Tyre</td>\n",
       "      <td>https://www.amazon.in/Tyres-Taxi-Max-Tubeless-...</td>\n",
       "      <td>Reviewed in India on 15 September 2020</td>\n",
       "      <td>\\nGood tyres\\n</td>\n",
       "      <td>5.0 out of 5 stars</td>\n",
       "      <td>\\nSo far so goodWarranty of 5yearsHopefully th...</td>\n",
       "    </tr>\n",
       "    <tr>\n",
       "      <th>1</th>\n",
       "      <td>JK Tyre 165/80 R14 Taximax Tubeless Car Tyre</td>\n",
       "      <td>https://www.amazon.in/Tyres-Taxi-Max-Tubeless-...</td>\n",
       "      <td>Reviewed in India on 30 June 2022</td>\n",
       "      <td>\\nThe best tyre that you can get at the entry ...</td>\n",
       "      <td>5.0 out of 5 stars</td>\n",
       "      <td>\\nI used the same model tyre - JK Taximax, for...</td>\n",
       "    </tr>\n",
       "    <tr>\n",
       "      <th>2</th>\n",
       "      <td>JK Tyre 165/80 R14 Taximax Tubeless Car Tyre</td>\n",
       "      <td>https://www.amazon.in/Tyres-Taxi-Max-Tubeless-...</td>\n",
       "      <td>Reviewed in India on 26 November 2020</td>\n",
       "      <td>\\nTyree are good\\n</td>\n",
       "      <td>5.0 out of 5 stars</td>\n",
       "      <td>\\nAs on now it is ok\\n</td>\n",
       "    </tr>\n",
       "  </tbody>\n",
       "</table>\n",
       "</div>"
      ],
      "text/plain": [
       "                                   product_name  \\\n",
       "0  JK Tyre 165/80 R14 Taximax Tubeless Car Tyre   \n",
       "1  JK Tyre 165/80 R14 Taximax Tubeless Car Tyre   \n",
       "2  JK Tyre 165/80 R14 Taximax Tubeless Car Tyre   \n",
       "\n",
       "                                        product_link  \\\n",
       "0  https://www.amazon.in/Tyres-Taxi-Max-Tubeless-...   \n",
       "1  https://www.amazon.in/Tyres-Taxi-Max-Tubeless-...   \n",
       "2  https://www.amazon.in/Tyres-Taxi-Max-Tubeless-...   \n",
       "\n",
       "                              review_date  \\\n",
       "0  Reviewed in India on 15 September 2020   \n",
       "1       Reviewed in India on 30 June 2022   \n",
       "2   Reviewed in India on 26 November 2020   \n",
       "\n",
       "                                        review_title       review_rating  \\\n",
       "0                                     \\nGood tyres\\n  5.0 out of 5 stars   \n",
       "1  \\nThe best tyre that you can get at the entry ...  5.0 out of 5 stars   \n",
       "2                                 \\nTyree are good\\n  5.0 out of 5 stars   \n",
       "\n",
       "                                      review_comment  \n",
       "0  \\nSo far so goodWarranty of 5yearsHopefully th...  \n",
       "1  \\nI used the same model tyre - JK Taximax, for...  \n",
       "2                             \\nAs on now it is ok\\n  "
      ]
     },
     "execution_count": 6,
     "metadata": {},
     "output_type": "execute_result"
    }
   ],
   "source": [
    "cartyre_df = pd.read_csv(\"amazon_cartyre.csv\")\n",
    "cartyre_df.head(3)"
   ]
  },
  {
   "cell_type": "markdown",
   "id": "aafc071c",
   "metadata": {
    "jp-MarkdownHeadingCollapsed": true,
    "tags": []
   },
   "source": [
    "## Reading Car Windshield Washer Data"
   ]
  },
  {
   "cell_type": "code",
   "execution_count": 7,
   "id": "ce7d4807",
   "metadata": {
    "scrolled": true
   },
   "outputs": [
    {
     "data": {
      "text/html": [
       "<div>\n",
       "<style scoped>\n",
       "    .dataframe tbody tr th:only-of-type {\n",
       "        vertical-align: middle;\n",
       "    }\n",
       "\n",
       "    .dataframe tbody tr th {\n",
       "        vertical-align: top;\n",
       "    }\n",
       "\n",
       "    .dataframe thead th {\n",
       "        text-align: right;\n",
       "    }\n",
       "</style>\n",
       "<table border=\"1\" class=\"dataframe\">\n",
       "  <thead>\n",
       "    <tr style=\"text-align: right;\">\n",
       "      <th></th>\n",
       "      <th>product_name</th>\n",
       "      <th>product_link</th>\n",
       "      <th>review_date</th>\n",
       "      <th>review_title</th>\n",
       "      <th>review_rating</th>\n",
       "      <th>review_comment</th>\n",
       "    </tr>\n",
       "  </thead>\n",
       "  <tbody>\n",
       "    <tr>\n",
       "      <th>0</th>\n",
       "      <td>LAZI (10 Tablets) Multipurpose car windshield ...</td>\n",
       "      <td>https://www.amazon.in/LAZI-Tablets-windshield-...</td>\n",
       "      <td>Reviewed in India on 28 June 2022</td>\n",
       "      <td>\\nBetter than soapwater\\n</td>\n",
       "      <td>4.0 out of 5 stars</td>\n",
       "      <td>\\nYou kinda get addicted to wiping your window...</td>\n",
       "    </tr>\n",
       "    <tr>\n",
       "      <th>1</th>\n",
       "      <td>LAZI (10 Tablets) Multipurpose car windshield ...</td>\n",
       "      <td>https://www.amazon.in/LAZI-Tablets-windshield-...</td>\n",
       "      <td>Reviewed in India on 16 July 2022</td>\n",
       "      <td>\\nNot effective\\n</td>\n",
       "      <td>1.0 out of 5 stars</td>\n",
       "      <td>\\nNo effectivness\\n</td>\n",
       "    </tr>\n",
       "    <tr>\n",
       "      <th>2</th>\n",
       "      <td>LAZI (10 Tablets) Multipurpose car windshield ...</td>\n",
       "      <td>https://www.amazon.in/LAZI-Tablets-windshield-...</td>\n",
       "      <td>Reviewed in India on 24 June 2022</td>\n",
       "      <td>\\nGood product\\n</td>\n",
       "      <td>5.0 out of 5 stars</td>\n",
       "      <td>\\nGood product\\n</td>\n",
       "    </tr>\n",
       "  </tbody>\n",
       "</table>\n",
       "</div>"
      ],
      "text/plain": [
       "                                        product_name  \\\n",
       "0  LAZI (10 Tablets) Multipurpose car windshield ...   \n",
       "1  LAZI (10 Tablets) Multipurpose car windshield ...   \n",
       "2  LAZI (10 Tablets) Multipurpose car windshield ...   \n",
       "\n",
       "                                        product_link  \\\n",
       "0  https://www.amazon.in/LAZI-Tablets-windshield-...   \n",
       "1  https://www.amazon.in/LAZI-Tablets-windshield-...   \n",
       "2  https://www.amazon.in/LAZI-Tablets-windshield-...   \n",
       "\n",
       "                         review_date               review_title  \\\n",
       "0  Reviewed in India on 28 June 2022  \\nBetter than soapwater\\n   \n",
       "1  Reviewed in India on 16 July 2022          \\nNot effective\\n   \n",
       "2  Reviewed in India on 24 June 2022           \\nGood product\\n   \n",
       "\n",
       "        review_rating                                     review_comment  \n",
       "0  4.0 out of 5 stars  \\nYou kinda get addicted to wiping your window...  \n",
       "1  1.0 out of 5 stars                                \\nNo effectivness\\n  \n",
       "2  5.0 out of 5 stars                                   \\nGood product\\n  "
      ]
     },
     "execution_count": 7,
     "metadata": {},
     "output_type": "execute_result"
    }
   ],
   "source": [
    "carwindshwash_df = pd.read_csv(\"amazon_carwindshwash.csv\")\n",
    "carwindshwash_df.head(3)"
   ]
  },
  {
   "cell_type": "markdown",
   "id": "c1935d00",
   "metadata": {
    "jp-MarkdownHeadingCollapsed": true,
    "tags": []
   },
   "source": [
    "## Reading Car Wiper Data"
   ]
  },
  {
   "cell_type": "code",
   "execution_count": 8,
   "id": "2a23e8f6",
   "metadata": {},
   "outputs": [
    {
     "data": {
      "text/html": [
       "<div>\n",
       "<style scoped>\n",
       "    .dataframe tbody tr th:only-of-type {\n",
       "        vertical-align: middle;\n",
       "    }\n",
       "\n",
       "    .dataframe tbody tr th {\n",
       "        vertical-align: top;\n",
       "    }\n",
       "\n",
       "    .dataframe thead th {\n",
       "        text-align: right;\n",
       "    }\n",
       "</style>\n",
       "<table border=\"1\" class=\"dataframe\">\n",
       "  <thead>\n",
       "    <tr style=\"text-align: right;\">\n",
       "      <th></th>\n",
       "      <th>product_name</th>\n",
       "      <th>product_link</th>\n",
       "      <th>review_date</th>\n",
       "      <th>review_title</th>\n",
       "      <th>review_rating</th>\n",
       "      <th>review_comment</th>\n",
       "    </tr>\n",
       "  </thead>\n",
       "  <tbody>\n",
       "    <tr>\n",
       "      <th>0</th>\n",
       "      <td>Woschmann-Car Replacement Wiper Blade Assembly...</td>\n",
       "      <td>https://www.amazon.in/Woschmann-Car-Replacemen...</td>\n",
       "      <td>Reviewed in India on 21 May 2022</td>\n",
       "      <td>\\nNot suitable for Honda Civic 8th Gen. and no...</td>\n",
       "      <td>1.0 out of 5 stars</td>\n",
       "      <td>\\nIt is not suitable for Honda Civic 8th Gen. ...</td>\n",
       "    </tr>\n",
       "    <tr>\n",
       "      <th>1</th>\n",
       "      <td>Woschmann-Car Replacement Wiper Blade Assembly...</td>\n",
       "      <td>https://www.amazon.in/Woschmann-Car-Replacemen...</td>\n",
       "      <td>Reviewed in India on 29 July 2022</td>\n",
       "      <td>\\nProduct shown is different, received totally...</td>\n",
       "      <td>1.0 out of 5 stars</td>\n",
       "      <td>\\nCrazy seller, Amazon should ban these kind o...</td>\n",
       "    </tr>\n",
       "    <tr>\n",
       "      <th>2</th>\n",
       "      <td>Woschmann-Car Replacement Wiper Blade Assembly...</td>\n",
       "      <td>https://www.amazon.in/Woschmann-Car-Replacemen...</td>\n",
       "      <td>Reviewed in India on 27 May 2022</td>\n",
       "      <td>\\nGood product\\n</td>\n",
       "      <td>5.0 out of 5 stars</td>\n",
       "      <td>\\nQuality good\\n</td>\n",
       "    </tr>\n",
       "  </tbody>\n",
       "</table>\n",
       "</div>"
      ],
      "text/plain": [
       "                                        product_name  \\\n",
       "0  Woschmann-Car Replacement Wiper Blade Assembly...   \n",
       "1  Woschmann-Car Replacement Wiper Blade Assembly...   \n",
       "2  Woschmann-Car Replacement Wiper Blade Assembly...   \n",
       "\n",
       "                                        product_link  \\\n",
       "0  https://www.amazon.in/Woschmann-Car-Replacemen...   \n",
       "1  https://www.amazon.in/Woschmann-Car-Replacemen...   \n",
       "2  https://www.amazon.in/Woschmann-Car-Replacemen...   \n",
       "\n",
       "                         review_date  \\\n",
       "0   Reviewed in India on 21 May 2022   \n",
       "1  Reviewed in India on 29 July 2022   \n",
       "2   Reviewed in India on 27 May 2022   \n",
       "\n",
       "                                        review_title       review_rating  \\\n",
       "0  \\nNot suitable for Honda Civic 8th Gen. and no...  1.0 out of 5 stars   \n",
       "1  \\nProduct shown is different, received totally...  1.0 out of 5 stars   \n",
       "2                                   \\nGood product\\n  5.0 out of 5 stars   \n",
       "\n",
       "                                      review_comment  \n",
       "0  \\nIt is not suitable for Honda Civic 8th Gen. ...  \n",
       "1  \\nCrazy seller, Amazon should ban these kind o...  \n",
       "2                                   \\nQuality good\\n  "
      ]
     },
     "execution_count": 8,
     "metadata": {},
     "output_type": "execute_result"
    }
   ],
   "source": [
    "carwiper_df = pd.read_csv(\"amazon_carwiper.csv\")\n",
    "carwiper_df.head(3)"
   ]
  },
  {
   "cell_type": "markdown",
   "id": "23b9b3d7",
   "metadata": {
    "jp-MarkdownHeadingCollapsed": true,
    "tags": []
   },
   "source": [
    "## Examine all the loaded datasets"
   ]
  },
  {
   "cell_type": "code",
   "execution_count": 9,
   "id": "7c78dfdf",
   "metadata": {
    "scrolled": true,
    "tags": []
   },
   "outputs": [
    {
     "name": "stdout",
     "output_type": "stream",
     "text": [
      "Shape of Car Wheel  (130, 6)\n",
      "Shape of Car Engineoil  (206, 6)\n",
      "Shape of Car Fog Lamp  (495, 6)\n",
      "Shape of Car Seat Covers  (219, 6)\n",
      "Shape of Car Tyre  (594, 6)\n",
      "Shape of Car Windshield Washer  (216, 6)\n",
      "Shape of Car Wiper  (637, 6)\n"
     ]
    }
   ],
   "source": [
    "print(\"Shape of Car Wheel \", carwheel_df.shape)\n",
    "print(\"Shape of Car Engineoil \", carengineoil_df.shape)\n",
    "print(\"Shape of Car Fog Lamp \", carfoglamp_df.shape)\n",
    "print(\"Shape of Car Seat Covers \", carseatcover_df.shape)\n",
    "print(\"Shape of Car Tyre \", cartyre_df.shape)\n",
    "print(\"Shape of Car Windshield Washer \", carwindshwash_df.shape)\n",
    "print(\"Shape of Car Wiper \", carwiper_df.shape)"
   ]
  },
  {
   "cell_type": "markdown",
   "id": "ad1ff990-3366-4488-87fe-d8fc38fa57b1",
   "metadata": {},
   "source": [
    "### Add Product column to the dataset"
   ]
  },
  {
   "cell_type": "code",
   "execution_count": 10,
   "id": "4a20768a-7939-4c51-8408-083646a0b407",
   "metadata": {},
   "outputs": [],
   "source": [
    "loc = 0\n",
    "carwheel_df.insert(loc,'Product', 'Car Wheel')\n",
    "carengineoil_df.insert(loc,'Product', 'Car Engine Oil')\n",
    "carfoglamp_df.insert(loc,'Product', 'Car Fog Lamp')\n",
    "carseatcover_df.insert(loc,'Product', 'Car Seat Covers')\n",
    "cartyre_df.insert(loc,'Product', 'Car Tyre')\n",
    "carwindshwash_df.insert(loc,'Product', 'Car Windshield Washer')\n",
    "carwiper_df.insert(loc,'Product', 'Car Wiper')"
   ]
  },
  {
   "cell_type": "markdown",
   "id": "c568ce24-d8c6-4a29-b75e-6cb2d77064db",
   "metadata": {},
   "source": [
    "### Combine All Datasets"
   ]
  },
  {
   "cell_type": "code",
   "execution_count": 11,
   "id": "90d877d0-2bd4-4a4a-afb5-c9e0fd660db6",
   "metadata": {},
   "outputs": [
    {
     "name": "stdout",
     "output_type": "stream",
     "text": [
      "Shape of All Car Products  (2497, 7)\n"
     ]
    }
   ],
   "source": [
    "car_amazon_df = pd.concat([carwheel_df, carengineoil_df, carfoglamp_df, carseatcover_df, cartyre_df, carwindshwash_df, carwiper_df])\n",
    "print(\"Shape of All Car Products \", car_amazon_df.shape)"
   ]
  },
  {
   "cell_type": "markdown",
   "id": "dca77c8a",
   "metadata": {},
   "source": [
    "### Display Data Types and Columns"
   ]
  },
  {
   "cell_type": "code",
   "execution_count": 12,
   "id": "3a0d41c2",
   "metadata": {},
   "outputs": [
    {
     "data": {
      "text/plain": [
       "Product           object\n",
       "product_name      object\n",
       "product_link      object\n",
       "review_date       object\n",
       "review_title      object\n",
       "review_rating     object\n",
       "review_comment    object\n",
       "dtype: object"
      ]
     },
     "execution_count": 12,
     "metadata": {},
     "output_type": "execute_result"
    }
   ],
   "source": [
    "car_amazon_df.dtypes"
   ]
  },
  {
   "cell_type": "code",
   "execution_count": 13,
   "id": "247f8131",
   "metadata": {},
   "outputs": [
    {
     "data": {
      "text/plain": [
       "Index(['Product', 'product_name', 'product_link', 'review_date',\n",
       "       'review_title', 'review_rating', 'review_comment'],\n",
       "      dtype='object')"
      ]
     },
     "execution_count": 13,
     "metadata": {},
     "output_type": "execute_result"
    }
   ],
   "source": [
    "car_amazon_df.columns"
   ]
  },
  {
   "cell_type": "markdown",
   "id": "ed082a9c",
   "metadata": {
    "jp-MarkdownHeadingCollapsed": true,
    "tags": []
   },
   "source": [
    "# Describe The Overall Data"
   ]
  },
  {
   "cell_type": "code",
   "execution_count": 14,
   "id": "cc44ee3b",
   "metadata": {},
   "outputs": [
    {
     "data": {
      "text/html": [
       "<div>\n",
       "<style scoped>\n",
       "    .dataframe tbody tr th:only-of-type {\n",
       "        vertical-align: middle;\n",
       "    }\n",
       "\n",
       "    .dataframe tbody tr th {\n",
       "        vertical-align: top;\n",
       "    }\n",
       "\n",
       "    .dataframe thead th {\n",
       "        text-align: right;\n",
       "    }\n",
       "</style>\n",
       "<table border=\"1\" class=\"dataframe\">\n",
       "  <thead>\n",
       "    <tr style=\"text-align: right;\">\n",
       "      <th></th>\n",
       "      <th>Product</th>\n",
       "      <th>product_name</th>\n",
       "      <th>product_link</th>\n",
       "      <th>review_date</th>\n",
       "      <th>review_title</th>\n",
       "      <th>review_rating</th>\n",
       "      <th>review_comment</th>\n",
       "    </tr>\n",
       "  </thead>\n",
       "  <tbody>\n",
       "    <tr>\n",
       "      <th>count</th>\n",
       "      <td>2497</td>\n",
       "      <td>2497</td>\n",
       "      <td>2497</td>\n",
       "      <td>2497</td>\n",
       "      <td>2497</td>\n",
       "      <td>2497</td>\n",
       "      <td>2472</td>\n",
       "    </tr>\n",
       "    <tr>\n",
       "      <th>unique</th>\n",
       "      <td>7</td>\n",
       "      <td>227</td>\n",
       "      <td>229</td>\n",
       "      <td>983</td>\n",
       "      <td>1386</td>\n",
       "      <td>10</td>\n",
       "      <td>1565</td>\n",
       "    </tr>\n",
       "    <tr>\n",
       "      <th>top</th>\n",
       "      <td>Car Wiper</td>\n",
       "      <td>MICHELIN 16\" Traditional Rainforce wiper Blades</td>\n",
       "      <td>https://www.amazon.in/TYRE-Ultima-Tubeless-Tyr...</td>\n",
       "      <td>Reviewed in India on 6 July 2022</td>\n",
       "      <td>\\nGood\\n</td>\n",
       "      <td>5.0 out of 5 stars</td>\n",
       "      <td>\\nGood\\n</td>\n",
       "    </tr>\n",
       "    <tr>\n",
       "      <th>freq</th>\n",
       "      <td>637</td>\n",
       "      <td>40</td>\n",
       "      <td>40</td>\n",
       "      <td>16</td>\n",
       "      <td>69</td>\n",
       "      <td>986</td>\n",
       "      <td>38</td>\n",
       "    </tr>\n",
       "  </tbody>\n",
       "</table>\n",
       "</div>"
      ],
      "text/plain": [
       "          Product                                     product_name  \\\n",
       "count        2497                                             2497   \n",
       "unique          7                                              227   \n",
       "top     Car Wiper  MICHELIN 16\" Traditional Rainforce wiper Blades   \n",
       "freq          637                                               40   \n",
       "\n",
       "                                             product_link  \\\n",
       "count                                                2497   \n",
       "unique                                                229   \n",
       "top     https://www.amazon.in/TYRE-Ultima-Tubeless-Tyr...   \n",
       "freq                                                   40   \n",
       "\n",
       "                             review_date review_title       review_rating  \\\n",
       "count                               2497         2497                2497   \n",
       "unique                               983         1386                  10   \n",
       "top     Reviewed in India on 6 July 2022     \\nGood\\n  5.0 out of 5 stars   \n",
       "freq                                  16           69                 986   \n",
       "\n",
       "       review_comment  \n",
       "count            2472  \n",
       "unique           1565  \n",
       "top          \\nGood\\n  \n",
       "freq               38  "
      ]
     },
     "execution_count": 14,
     "metadata": {},
     "output_type": "execute_result"
    }
   ],
   "source": [
    "car_amazon_df.describe()"
   ]
  },
  {
   "cell_type": "markdown",
   "id": "3f81ea84",
   "metadata": {
    "tags": []
   },
   "source": [
    "# Pre-processing"
   ]
  },
  {
   "cell_type": "markdown",
   "id": "ec382afe",
   "metadata": {},
   "source": [
    "<h2>The following steps are done as part of the preprocessing or data cleaning part.</h2>\n",
    "\n",
    "- <h3>Removed columns</h3> \n",
    "- <h3>Removed non-ASCII, Unicode, Whitespaces, HTML Tags, Special characters</h3>\n",
    "- <h3>Trimed Review Comments and Review Title Columns data</h3>\n",
    "- <h3>Detected Language and translated non-English text to English</h3>\n",
    "- <h3>Removed some unneccessary text like \"the media could not be loaded\" etc. from comments</h3>\n",
    "- <h3>Changed rating column from text to numerical for better understanding like '5.0 out of 5 stars' to '5'</h3>\n",
    "- <h3>Formated date column</h3>\n",
    "- <h3> Pre filling the empty review comment columns with review title column data </h3>\n",
    "\n",
    "<h3>For each of the above steps written methods/functions. Applied each cleanup functions to all the datasets in the dictionary.<h3>"
   ]
  },
  {
   "cell_type": "code",
   "execution_count": 15,
   "id": "1c6ab926",
   "metadata": {},
   "outputs": [],
   "source": [
    "def clean_string(text):\n",
    "    text= re.sub('\\W+',\" \", text)\n",
    "    text= re.sub(\"(\\xe9|\\362)\", \"\", text)\n",
    "    text= re.sub(\"(<U\\\\+\\\\w+>)\", \"\", text)\n",
    "    text= re.sub(\"[^a-zA-Z0-9]\",\" \",text)\n",
    "    text= text.lower()\n",
    "    text= re.sub(' +', \" \", text)\n",
    "    text= re.sub('the media could not be loaded',\"\",text)\n",
    "    text = text.lstrip(' ')   \n",
    "    return text\n",
    "\n",
    "def remove_special_characters(dataCol):\n",
    "    r = re.compile(r'[^a-zA-Z !@#$%&*_+-=|\\:\";<>,./()[\\]{}\\']')\n",
    "    return r.sub('', dataCol)\n",
    "def remove_html_junk(dataCol):\n",
    "    text = BeautifulSoup(dataCol, 'html.parser').getText()\n",
    "    return text\n",
    "def trim_string(dataCol):\n",
    "    return dataCol.strip()\n",
    "def obs_pattern(dataCol):\n",
    "    r = re.compile(r'^[\\s!\\s]+$')\n",
    "    return r.sub('', dataCol)\n",
    "def detect_lang(text):   \n",
    "    result_lang = ''\n",
    "    if(text):\n",
    "        result_lang = detect(text)    \n",
    "    return result_lang\n",
    "def detect_and_translate(text):  \n",
    "    translate_text = text\n",
    "    result_lang = ''\n",
    "    if(text):\n",
    "        result_lang = detect(text)    \n",
    "        if result_lang == 'en' or result_lang == '':\n",
    "            return translate_text    \n",
    "        else:\n",
    "            try:            \n",
    "                translator = google_translator()\n",
    "                translate_text = translator.translate(text,lang_src=result_lang,lang_tgt='en')\n",
    "                return translate_text \n",
    "            except:\n",
    "                pass\n",
    "    return translate_text\n",
    "\n",
    "def rating(dataCol):\n",
    "    if type(dataCol) == str:\n",
    "        dataCol = dataCol.split(\".\", 1)[0]\n",
    "    return dataCol\n",
    "    \n",
    "# Preprocessor method which will apply all clenup functions on the datacolumns\n",
    "def preprocessor(dataCol):\n",
    "    if dataCol is not None:    \n",
    "        dataCol = clean_string(dataCol)\n",
    "        dataCol = remove_special_characters(dataCol)\n",
    "        dataCol = remove_html_junk(dataCol)\n",
    "        dataCol = trim_string(dataCol)\n",
    "        dataCol = obs_pattern(dataCol)       \n",
    "        #dataCol = detect_and_translate(dataCol)\n",
    "    return dataCol\n",
    "\n",
    "car_amazon_df['product_name'] = car_amazon_df['product_name'].astype('str')\n",
    "car_amazon_df['review_comment'] = car_amazon_df['review_comment'].astype('str')\n",
    "car_amazon_df['review_title'] = car_amazon_df['review_title'].astype('str')\n",
    "\n",
    "car_amazon_df['review_comment'] = car_amazon_df['review_comment'].apply(preprocessor)\n",
    "car_amazon_df['product_name'] = car_amazon_df['product_name'].apply(preprocessor)\n",
    "car_amazon_df['review_title'] = car_amazon_df['review_title'].apply(preprocessor) \n",
    "car_amazon_df['review_rating'] = car_amazon_df['review_rating'].apply(rating)\n",
    "car_amazon_df['review_date'] = car_amazon_df['review_date'].replace('Reviewed in India on','', regex=True)\n",
    "car_amazon_df['review_date'] = car_amazon_df['review_date'].apply(preprocessor)\n",
    "car_amazon_df['review_date'] = pd.to_datetime(car_amazon_df['review_date'], format='%d %B %Y')\n",
    "car_amazon_df['year'] = pd.DatetimeIndex(car_amazon_df['review_date']).year\n",
    "car_amazon_df['month'] = pd.DatetimeIndex(car_amazon_df['review_date']).month\n",
    "\n",
    "\n",
    "# Replacing empty columns of review comments column with review titles\n",
    "#nulls_index = car_amazon_df['review_comment'].isnull()\n",
    "\n",
    "    \n",
    "#car_amazon_df.review_comment.fillna(car_amazon_df.review_title, inplace=True)\n",
    "#car_amazon_df['review_comment'] = car_amazon_df['review_comment'].fillna(method ='bfill')\n",
    "#car_amazon_df['review_comment'] = car_amazon_df['review_comment'].replace(np.NaN,car_amazon_df['review_title'], regex=True)\n",
    "#car_amazon_df['review_comment'] = car_amazon_df['review_comment'].isnull(car_amazon_df['review_title'])\n",
    "\n",
    "car_amazon_df.to_csv('amazon_car.csv', index=False)"
   ]
  },
  {
   "cell_type": "markdown",
   "id": "73ca4cce",
   "metadata": {
    "tags": []
   },
   "source": [
    "# Basic Text Analysis"
   ]
  },
  {
   "cell_type": "markdown",
   "id": "c34e855a",
   "metadata": {},
   "source": [
    "<h2>Performed basic text analysis by following below steps in sequence on Review text inorder to do further analysis.</h2>\n",
    "\n",
    "<ol>\n",
    "    <li><h3>Performed Tokenization with Stemming</h3></li>\n",
    "        <ol>\n",
    "            <li><h4>Tokenize sentence into words</h4></li>\n",
    "            <li><h4>Consider only Alphanumeric words and exclude other's like numeric etc.</h4></li>\n",
    "            <li><h4>Remove stopwords</h4></li>\n",
    "            <li><h4>Get stemming of records</h4></li>\n",
    "    </ol>\n",
    "    <li><h3>Parts Of Speech</h3></li>\n",
    "    <li><h3>Lemmatization</h3></li>\n",
    "</ol>"
   ]
  },
  {
   "cell_type": "code",
   "execution_count": 16,
   "id": "13574d1c",
   "metadata": {},
   "outputs": [],
   "source": [
    "# Loading stopwords from nltk\n",
    "# stopwords = nltk.corpus.stopwords.words(\"english\")\n",
    "from nltk.corpus import stopwords\n",
    "stop_words = stopwords.words('english')\n",
    "stop_words.extend(['car','oil','product', 'wiper','windshield','amazon','buy','time','even','work','tyre','away', 'every','certain','finally','got','get', 'im','even','cant', 'would',\n",
    "                  'said', 'could', 'wanted', 'needed', 'end', 'taking', 'dude','gotten', 'since', 'le', 'thus',\n",
    "                  'tx', 'whatever', 'therefore','ever', 'pa', 'wasnt','still', 'gave','yall','something', 'theyre',\n",
    "                  'dont', 'need',  'wont', 'doesnt',  'nothing', 'ive','saying','u','please'])\n",
    "\n",
    "# This function will perform tokenization\n",
    "def tokenize_only(text):\n",
    "    tokens = [word.lower() for sent in nltk.sent_tokenize(text) for word in nltk.word_tokenize(sent)]\n",
    "    filtered_tokens = []\n",
    "    for token in tokens:\n",
    "        if(not token in stop_words):            \n",
    "            if re.search('[a-zA-Z]',token):\n",
    "                filtered_tokens.append(token)\n",
    "    return filtered_tokens\n",
    "\n",
    "# This function will perform tokenization and stemming\n",
    "stemmer = SnowballStemmer(\"english\")\n",
    "def tokenize_and_stem(text):    \n",
    "    filtered_tokens = tokenize_only(text)\n",
    "    stems = [stemmer.stem(t) for t in filtered_tokens]\n",
    "    return stems\n",
    "\n",
    "# This function perform tokenization, stemming and parts of speech\n",
    "pos_dict = {'J':wordnet.ADJ, 'V':wordnet.VERB, 'N':wordnet.NOUN, 'R':wordnet.ADV}\n",
    "def token_stop_pos(text):\n",
    "    tags = pos_tag(tokenize_and_stem(text))\n",
    "    newlist = []\n",
    "    for word, tag in tags:\n",
    "        newlist.append(tuple([word, pos_dict.get(tag[0])]))           \n",
    "    return newlist\n",
    "\n",
    "# This function perform lemmatization\n",
    "wordnet_lemmatizer = WordNetLemmatizer()\n",
    "def lemmatize(pos_data):\n",
    "    lemma_rew = \" \"\n",
    "    for word, pos in pos_data:\n",
    "        if not pos:\n",
    "            lemma = word\n",
    "            lemma_rew = lemma_rew + \" \" + lemma\n",
    "        else:\n",
    "            lemma = wordnet_lemmatizer.lemmatize(word, pos=pos)\n",
    "            lemma_rew = lemma_rew + \" \" + lemma\n",
    "    return lemma_rew"
   ]
  },
  {
   "cell_type": "markdown",
   "id": "2815e469",
   "metadata": {},
   "source": [
    "### Defined Function for Basic Text Analysis - Tokenization, Stemming, Parts Of Speech and Lemmatization"
   ]
  },
  {
   "cell_type": "code",
   "execution_count": 17,
   "id": "35aa0483",
   "metadata": {},
   "outputs": [],
   "source": [
    "def apply_basic_text_analysis(dataCol):        \n",
    "    dataCol = token_stop_pos(dataCol)    \n",
    "    dataCol = lemmatize(dataCol)    \n",
    "    return dataCol    "
   ]
  },
  {
   "cell_type": "markdown",
   "id": "3556bd63",
   "metadata": {},
   "source": [
    "## Apply basic text analysis on Review Comment column by looping all product datasets"
   ]
  },
  {
   "cell_type": "code",
   "execution_count": 18,
   "id": "dc558818",
   "metadata": {},
   "outputs": [],
   "source": [
    "car_amazon_df['Lemma'] = car_amazon_df['review_comment'].apply(apply_basic_text_analysis)"
   ]
  },
  {
   "cell_type": "markdown",
   "id": "ba4dee83",
   "metadata": {
    "tags": []
   },
   "source": [
    "# Sentiment Analysis with VADER"
   ]
  },
  {
   "cell_type": "markdown",
   "id": "774a4a4a",
   "metadata": {},
   "source": [
    "- <h3>Applied 'Vader Sentiment Analysis' on the review comments and derived positive, negative, neutral and compound values.</h3>\n",
    "- <h3>Sentiment analysis done based on the valence score of the review text.</h3>\n",
    "- <h3>Created new column 'Vader Sentiment' apply on Lemma Column.</h3>\n",
    "- <h3>Get count of positive, negative, neutral records for each product.</h3>\n",
    "- <h3>Ploted them in the bar chart.</h3>"
   ]
  },
  {
   "cell_type": "code",
   "execution_count": 19,
   "id": "2112cebc",
   "metadata": {},
   "outputs": [],
   "source": [
    "analyzer = SentimentIntensityAnalyzer()\n",
    "\n",
    "def vadersentimentanalysis(review):\n",
    "    vs = analyzer.polarity_scores(review)\n",
    "    return vs['compound']\n",
    "\n",
    "def vader_analysis(compound):\n",
    "    if compound > 0:\n",
    "        return 'Positive'\n",
    "    elif compound == 0:\n",
    "        return 'Neutral'\n",
    "    else:\n",
    "        return 'Negative'"
   ]
  },
  {
   "cell_type": "code",
   "execution_count": 20,
   "id": "dc5d8720",
   "metadata": {},
   "outputs": [
    {
     "data": {
      "text/html": [
       "<div>\n",
       "<style scoped>\n",
       "    .dataframe tbody tr th:only-of-type {\n",
       "        vertical-align: middle;\n",
       "    }\n",
       "\n",
       "    .dataframe tbody tr th {\n",
       "        vertical-align: top;\n",
       "    }\n",
       "\n",
       "    .dataframe thead th {\n",
       "        text-align: right;\n",
       "    }\n",
       "</style>\n",
       "<table border=\"1\" class=\"dataframe\">\n",
       "  <thead>\n",
       "    <tr style=\"text-align: right;\">\n",
       "      <th></th>\n",
       "      <th>Product</th>\n",
       "      <th>Vader Analysis</th>\n",
       "      <th>counts</th>\n",
       "    </tr>\n",
       "  </thead>\n",
       "  <tbody>\n",
       "    <tr>\n",
       "      <th>0</th>\n",
       "      <td>Car Engine Oil</td>\n",
       "      <td>Negative</td>\n",
       "      <td>33</td>\n",
       "    </tr>\n",
       "    <tr>\n",
       "      <th>1</th>\n",
       "      <td>Car Engine Oil</td>\n",
       "      <td>Neutral</td>\n",
       "      <td>38</td>\n",
       "    </tr>\n",
       "    <tr>\n",
       "      <th>2</th>\n",
       "      <td>Car Engine Oil</td>\n",
       "      <td>Positive</td>\n",
       "      <td>135</td>\n",
       "    </tr>\n",
       "    <tr>\n",
       "      <th>3</th>\n",
       "      <td>Car Fog Lamp</td>\n",
       "      <td>Negative</td>\n",
       "      <td>62</td>\n",
       "    </tr>\n",
       "    <tr>\n",
       "      <th>4</th>\n",
       "      <td>Car Fog Lamp</td>\n",
       "      <td>Neutral</td>\n",
       "      <td>106</td>\n",
       "    </tr>\n",
       "    <tr>\n",
       "      <th>5</th>\n",
       "      <td>Car Fog Lamp</td>\n",
       "      <td>Positive</td>\n",
       "      <td>327</td>\n",
       "    </tr>\n",
       "    <tr>\n",
       "      <th>6</th>\n",
       "      <td>Car Seat Covers</td>\n",
       "      <td>Negative</td>\n",
       "      <td>21</td>\n",
       "    </tr>\n",
       "    <tr>\n",
       "      <th>7</th>\n",
       "      <td>Car Seat Covers</td>\n",
       "      <td>Neutral</td>\n",
       "      <td>40</td>\n",
       "    </tr>\n",
       "    <tr>\n",
       "      <th>8</th>\n",
       "      <td>Car Seat Covers</td>\n",
       "      <td>Positive</td>\n",
       "      <td>158</td>\n",
       "    </tr>\n",
       "    <tr>\n",
       "      <th>9</th>\n",
       "      <td>Car Tyre</td>\n",
       "      <td>Negative</td>\n",
       "      <td>63</td>\n",
       "    </tr>\n",
       "    <tr>\n",
       "      <th>10</th>\n",
       "      <td>Car Tyre</td>\n",
       "      <td>Neutral</td>\n",
       "      <td>119</td>\n",
       "    </tr>\n",
       "    <tr>\n",
       "      <th>11</th>\n",
       "      <td>Car Tyre</td>\n",
       "      <td>Positive</td>\n",
       "      <td>412</td>\n",
       "    </tr>\n",
       "    <tr>\n",
       "      <th>12</th>\n",
       "      <td>Car Wheel</td>\n",
       "      <td>Negative</td>\n",
       "      <td>22</td>\n",
       "    </tr>\n",
       "    <tr>\n",
       "      <th>13</th>\n",
       "      <td>Car Wheel</td>\n",
       "      <td>Neutral</td>\n",
       "      <td>20</td>\n",
       "    </tr>\n",
       "    <tr>\n",
       "      <th>14</th>\n",
       "      <td>Car Wheel</td>\n",
       "      <td>Positive</td>\n",
       "      <td>88</td>\n",
       "    </tr>\n",
       "    <tr>\n",
       "      <th>15</th>\n",
       "      <td>Car Windshield Washer</td>\n",
       "      <td>Negative</td>\n",
       "      <td>24</td>\n",
       "    </tr>\n",
       "    <tr>\n",
       "      <th>16</th>\n",
       "      <td>Car Windshield Washer</td>\n",
       "      <td>Neutral</td>\n",
       "      <td>36</td>\n",
       "    </tr>\n",
       "    <tr>\n",
       "      <th>17</th>\n",
       "      <td>Car Windshield Washer</td>\n",
       "      <td>Positive</td>\n",
       "      <td>156</td>\n",
       "    </tr>\n",
       "    <tr>\n",
       "      <th>18</th>\n",
       "      <td>Car Wiper</td>\n",
       "      <td>Negative</td>\n",
       "      <td>91</td>\n",
       "    </tr>\n",
       "    <tr>\n",
       "      <th>19</th>\n",
       "      <td>Car Wiper</td>\n",
       "      <td>Neutral</td>\n",
       "      <td>78</td>\n",
       "    </tr>\n",
       "    <tr>\n",
       "      <th>20</th>\n",
       "      <td>Car Wiper</td>\n",
       "      <td>Positive</td>\n",
       "      <td>468</td>\n",
       "    </tr>\n",
       "  </tbody>\n",
       "</table>\n",
       "</div>"
      ],
      "text/plain": [
       "                  Product Vader Analysis  counts\n",
       "0          Car Engine Oil       Negative      33\n",
       "1          Car Engine Oil        Neutral      38\n",
       "2          Car Engine Oil       Positive     135\n",
       "3            Car Fog Lamp       Negative      62\n",
       "4            Car Fog Lamp        Neutral     106\n",
       "5            Car Fog Lamp       Positive     327\n",
       "6         Car Seat Covers       Negative      21\n",
       "7         Car Seat Covers        Neutral      40\n",
       "8         Car Seat Covers       Positive     158\n",
       "9                Car Tyre       Negative      63\n",
       "10               Car Tyre        Neutral     119\n",
       "11               Car Tyre       Positive     412\n",
       "12              Car Wheel       Negative      22\n",
       "13              Car Wheel        Neutral      20\n",
       "14              Car Wheel       Positive      88\n",
       "15  Car Windshield Washer       Negative      24\n",
       "16  Car Windshield Washer        Neutral      36\n",
       "17  Car Windshield Washer       Positive     156\n",
       "18              Car Wiper       Negative      91\n",
       "19              Car Wiper        Neutral      78\n",
       "20              Car Wiper       Positive     468"
      ]
     },
     "execution_count": 20,
     "metadata": {},
     "output_type": "execute_result"
    }
   ],
   "source": [
    "car_amazon_df['Vader Sentiment'] = car_amazon_df['Lemma'].apply(vadersentimentanalysis)\n",
    "car_amazon_df['Vader Analysis'] = car_amazon_df['Vader Sentiment'].apply(vader_analysis)   \n",
    "sentiment_analysis = car_amazon_df.groupby(['Product','Vader Analysis']).size().reset_index(name='counts')\n",
    "sentiment_analysis"
   ]
  },
  {
   "cell_type": "markdown",
   "id": "4431a59d-e37b-4358-9bee-637380077c30",
   "metadata": {
    "tags": []
   },
   "source": [
    "# Sentimental Analysis on Each Product"
   ]
  },
  {
   "cell_type": "markdown",
   "id": "aeb0ebd1-db64-4b5a-b574-56db66be7711",
   "metadata": {
    "jp-MarkdownHeadingCollapsed": true,
    "tags": []
   },
   "source": [
    "## Summary of 'Car Engine Oil'"
   ]
  },
  {
   "cell_type": "code",
   "execution_count": 21,
   "id": "a4a818b2-ed61-4216-b26b-e3bd6afe13f0",
   "metadata": {},
   "outputs": [
    {
     "data": {
      "text/html": [
       "<div>\n",
       "<style scoped>\n",
       "    .dataframe tbody tr th:only-of-type {\n",
       "        vertical-align: middle;\n",
       "    }\n",
       "\n",
       "    .dataframe tbody tr th {\n",
       "        vertical-align: top;\n",
       "    }\n",
       "\n",
       "    .dataframe thead th {\n",
       "        text-align: right;\n",
       "    }\n",
       "</style>\n",
       "<table border=\"1\" class=\"dataframe\">\n",
       "  <thead>\n",
       "    <tr style=\"text-align: right;\">\n",
       "      <th></th>\n",
       "      <th>Product</th>\n",
       "      <th>Negative</th>\n",
       "      <th>Neutral</th>\n",
       "      <th>Positive</th>\n",
       "    </tr>\n",
       "  </thead>\n",
       "  <tbody>\n",
       "    <tr>\n",
       "      <th>0</th>\n",
       "      <td>Car Engine Oil</td>\n",
       "      <td>33</td>\n",
       "      <td>38</td>\n",
       "      <td>135</td>\n",
       "    </tr>\n",
       "  </tbody>\n",
       "</table>\n",
       "</div>"
      ],
      "text/plain": [
       "          Product Negative Neutral Positive\n",
       "0  Car Engine Oil       33      38      135"
      ]
     },
     "execution_count": 21,
     "metadata": {},
     "output_type": "execute_result"
    }
   ],
   "source": [
    "car_engine_oil_sa_df = sentiment_analysis.loc[(sentiment_analysis['Product'] == 'Car Engine Oil')]\n",
    "eo_df = pd.DataFrame(car_engine_oil_sa_df.T.values[2:], columns= ['Negative', 'Neutral', 'Positive'])\n",
    "eo_df.insert(0,'Product', 'Car Engine Oil')\n",
    "eo_df"
   ]
  },
  {
   "cell_type": "code",
   "execution_count": 22,
   "id": "18237350",
   "metadata": {},
   "outputs": [
    {
     "data": {
      "image/png": "[encoded data removed]",
      "text/plain": [
       "<Figure size 720x360 with 1 Axes>"
      ]
     },
     "metadata": {
      "needs_background": "light"
     },
     "output_type": "display_data"
    }
   ],
   "source": [
    "# creating the bar plot\n",
    "fig = plt.figure(figsize = (10, 5))    \n",
    "plt.bar(car_engine_oil_sa_df['Vader Analysis'], car_engine_oil_sa_df['counts'], color=['red','gray','green'], width = 0.4) \n",
    "plt.xlabel(\"Sentiment Label\")\n",
    "plt.ylabel(\"Sentiments Counts\")\n",
    "plt.title(\"Car Engine Oil Sentiment Analysis\")\n",
    "plt.show()"
   ]
  },
  {
   "cell_type": "markdown",
   "id": "98dbff5b-1c5f-46ef-8f52-0e687036ef3d",
   "metadata": {
    "jp-MarkdownHeadingCollapsed": true,
    "tags": []
   },
   "source": [
    "## Summary of 'Car Wheel'"
   ]
  },
  {
   "cell_type": "code",
   "execution_count": 23,
   "id": "d724789f-01d8-497a-97d4-0ae88b1525a8",
   "metadata": {},
   "outputs": [
    {
     "data": {
      "text/html": [
       "<div>\n",
       "<style scoped>\n",
       "    .dataframe tbody tr th:only-of-type {\n",
       "        vertical-align: middle;\n",
       "    }\n",
       "\n",
       "    .dataframe tbody tr th {\n",
       "        vertical-align: top;\n",
       "    }\n",
       "\n",
       "    .dataframe thead th {\n",
       "        text-align: right;\n",
       "    }\n",
       "</style>\n",
       "<table border=\"1\" class=\"dataframe\">\n",
       "  <thead>\n",
       "    <tr style=\"text-align: right;\">\n",
       "      <th></th>\n",
       "      <th>Product</th>\n",
       "      <th>Negative</th>\n",
       "      <th>Neutral</th>\n",
       "      <th>Positive</th>\n",
       "    </tr>\n",
       "  </thead>\n",
       "  <tbody>\n",
       "    <tr>\n",
       "      <th>0</th>\n",
       "      <td>Car Wheel</td>\n",
       "      <td>22</td>\n",
       "      <td>20</td>\n",
       "      <td>88</td>\n",
       "    </tr>\n",
       "  </tbody>\n",
       "</table>\n",
       "</div>"
      ],
      "text/plain": [
       "     Product Negative Neutral Positive\n",
       "0  Car Wheel       22      20       88"
      ]
     },
     "execution_count": 23,
     "metadata": {},
     "output_type": "execute_result"
    }
   ],
   "source": [
    "car_wheel_sa_df = sentiment_analysis.loc[(sentiment_analysis['Product'] == 'Car Wheel')]\n",
    "w_df = pd.DataFrame(car_wheel_sa_df.T.values[2:], columns= ['Negative', 'Neutral', 'Positive'])\n",
    "w_df.insert(0,'Product', 'Car Wheel')\n",
    "w_df"
   ]
  },
  {
   "cell_type": "code",
   "execution_count": 24,
   "id": "5506630b-4afb-4749-be19-323c5f0dffb0",
   "metadata": {},
   "outputs": [
    {
     "data": {
      "image/png": "[encoded data removed]",
      "text/plain": [
       "<Figure size 720x360 with 1 Axes>"
      ]
     },
     "metadata": {
      "needs_background": "light"
     },
     "output_type": "display_data"
    }
   ],
   "source": [
    "# creating the bar plot\n",
    "fig = plt.figure(figsize = (10, 5))    \n",
    "plt.bar(car_wheel_sa_df['Vader Analysis'], car_wheel_sa_df['counts'], color=['red','gray','green'], width = 0.4) \n",
    "plt.xlabel(\"Sentiment Label\")\n",
    "plt.ylabel(\"Sentiments Counts\")\n",
    "plt.title(\"Car Wheel Sentiment Analysis\")\n",
    "plt.show()"
   ]
  },
  {
   "cell_type": "markdown",
   "id": "41107c8d-7266-4337-8278-93fb6517bc49",
   "metadata": {
    "jp-MarkdownHeadingCollapsed": true,
    "tags": []
   },
   "source": [
    "## Summary of 'Car Fog Lamp'"
   ]
  },
  {
   "cell_type": "code",
   "execution_count": 25,
   "id": "543f825d-b403-49e1-ab52-c8efeb50b6f2",
   "metadata": {
    "tags": []
   },
   "outputs": [
    {
     "data": {
      "text/html": [
       "<div>\n",
       "<style scoped>\n",
       "    .dataframe tbody tr th:only-of-type {\n",
       "        vertical-align: middle;\n",
       "    }\n",
       "\n",
       "    .dataframe tbody tr th {\n",
       "        vertical-align: top;\n",
       "    }\n",
       "\n",
       "    .dataframe thead th {\n",
       "        text-align: right;\n",
       "    }\n",
       "</style>\n",
       "<table border=\"1\" class=\"dataframe\">\n",
       "  <thead>\n",
       "    <tr style=\"text-align: right;\">\n",
       "      <th></th>\n",
       "      <th>Product</th>\n",
       "      <th>Negative</th>\n",
       "      <th>Neutral</th>\n",
       "      <th>Positive</th>\n",
       "    </tr>\n",
       "  </thead>\n",
       "  <tbody>\n",
       "    <tr>\n",
       "      <th>0</th>\n",
       "      <td>Car Fog Lamp</td>\n",
       "      <td>62</td>\n",
       "      <td>106</td>\n",
       "      <td>327</td>\n",
       "    </tr>\n",
       "  </tbody>\n",
       "</table>\n",
       "</div>"
      ],
      "text/plain": [
       "        Product Negative Neutral Positive\n",
       "0  Car Fog Lamp       62     106      327"
      ]
     },
     "execution_count": 25,
     "metadata": {},
     "output_type": "execute_result"
    }
   ],
   "source": [
    "car_fog_lamp_sa_df = sentiment_analysis.loc[(sentiment_analysis['Product'] == 'Car Fog Lamp')]\n",
    "fl_df = pd.DataFrame(car_fog_lamp_sa_df.T.values[2:], columns= ['Negative', 'Neutral', 'Positive'])\n",
    "fl_df.insert(0,'Product', 'Car Fog Lamp')\n",
    "fl_df"
   ]
  },
  {
   "cell_type": "code",
   "execution_count": 26,
   "id": "41841700-2c71-4c92-b58b-3c65b630997c",
   "metadata": {},
   "outputs": [
    {
     "data": {
      "image/png": "[encoded data removed]",
      "text/plain": [
       "<Figure size 720x360 with 1 Axes>"
      ]
     },
     "metadata": {
      "needs_background": "light"
     },
     "output_type": "display_data"
    }
   ],
   "source": [
    "# creating the bar plot\n",
    "fig = plt.figure(figsize = (10, 5))    \n",
    "plt.bar(car_fog_lamp_sa_df['Vader Analysis'], car_fog_lamp_sa_df['counts'], color=['red','gray','green'], width = 0.4) \n",
    "plt.xlabel(\"Sentiment Label\")\n",
    "plt.ylabel(\"Sentiments Counts\")\n",
    "plt.title(\"Car Fog Lamp Sentiment Analysis\")\n",
    "plt.show()"
   ]
  },
  {
   "cell_type": "markdown",
   "id": "749a0658-b0e8-4953-bbeb-2fa722ba2224",
   "metadata": {
    "jp-MarkdownHeadingCollapsed": true,
    "tags": []
   },
   "source": [
    "## Summary of 'Car Seat Covers'"
   ]
  },
  {
   "cell_type": "code",
   "execution_count": 27,
   "id": "d7720fff-6ecb-48ea-81f7-2578ba5c513d",
   "metadata": {},
   "outputs": [
    {
     "data": {
      "text/html": [
       "<div>\n",
       "<style scoped>\n",
       "    .dataframe tbody tr th:only-of-type {\n",
       "        vertical-align: middle;\n",
       "    }\n",
       "\n",
       "    .dataframe tbody tr th {\n",
       "        vertical-align: top;\n",
       "    }\n",
       "\n",
       "    .dataframe thead th {\n",
       "        text-align: right;\n",
       "    }\n",
       "</style>\n",
       "<table border=\"1\" class=\"dataframe\">\n",
       "  <thead>\n",
       "    <tr style=\"text-align: right;\">\n",
       "      <th></th>\n",
       "      <th>Product</th>\n",
       "      <th>Negative</th>\n",
       "      <th>Neutral</th>\n",
       "      <th>Positive</th>\n",
       "    </tr>\n",
       "  </thead>\n",
       "  <tbody>\n",
       "    <tr>\n",
       "      <th>0</th>\n",
       "      <td>Car Seat Covers</td>\n",
       "      <td>21</td>\n",
       "      <td>40</td>\n",
       "      <td>158</td>\n",
       "    </tr>\n",
       "  </tbody>\n",
       "</table>\n",
       "</div>"
      ],
      "text/plain": [
       "           Product Negative Neutral Positive\n",
       "0  Car Seat Covers       21      40      158"
      ]
     },
     "execution_count": 27,
     "metadata": {},
     "output_type": "execute_result"
    }
   ],
   "source": [
    "car_seat_covers_sa_df = sentiment_analysis.loc[(sentiment_analysis['Product'] == 'Car Seat Covers')]\n",
    "sc_df = pd.DataFrame(car_seat_covers_sa_df.T.values[2:], columns= ['Negative', 'Neutral', 'Positive'])\n",
    "sc_df.insert(0,'Product', 'Car Seat Covers')\n",
    "sc_df"
   ]
  },
  {
   "cell_type": "code",
   "execution_count": 28,
   "id": "00a8ee1d-65b1-4be9-9acc-f929c07a37ee",
   "metadata": {},
   "outputs": [
    {
     "data": {
      "image/png": "[encoded data removed]",
      "text/plain": [
       "<Figure size 720x360 with 1 Axes>"
      ]
     },
     "metadata": {
      "needs_background": "light"
     },
     "output_type": "display_data"
    }
   ],
   "source": [
    "# creating the bar plot\n",
    "fig = plt.figure(figsize = (10, 5))    \n",
    "plt.bar(car_seat_covers_sa_df['Vader Analysis'], car_seat_covers_sa_df['counts'], color=['red','gray','green'], width = 0.4) \n",
    "plt.xlabel(\"Sentiment Label\")\n",
    "plt.ylabel(\"Sentiments Counts\")\n",
    "plt.title(\"Car Enigne Oil Sentiment Analysis\")\n",
    "plt.show()"
   ]
  },
  {
   "cell_type": "markdown",
   "id": "b8ff8cdd-91cb-4c29-9ffa-19ad5e1b189e",
   "metadata": {
    "jp-MarkdownHeadingCollapsed": true,
    "tags": []
   },
   "source": [
    "## Summary of 'Car Tyre'"
   ]
  },
  {
   "cell_type": "code",
   "execution_count": 29,
   "id": "64c8d835-d073-4d29-ad0f-fb3ac47340ce",
   "metadata": {},
   "outputs": [
    {
     "data": {
      "text/html": [
       "<div>\n",
       "<style scoped>\n",
       "    .dataframe tbody tr th:only-of-type {\n",
       "        vertical-align: middle;\n",
       "    }\n",
       "\n",
       "    .dataframe tbody tr th {\n",
       "        vertical-align: top;\n",
       "    }\n",
       "\n",
       "    .dataframe thead th {\n",
       "        text-align: right;\n",
       "    }\n",
       "</style>\n",
       "<table border=\"1\" class=\"dataframe\">\n",
       "  <thead>\n",
       "    <tr style=\"text-align: right;\">\n",
       "      <th></th>\n",
       "      <th>Product</th>\n",
       "      <th>Negative</th>\n",
       "      <th>Neutral</th>\n",
       "      <th>Positive</th>\n",
       "    </tr>\n",
       "  </thead>\n",
       "  <tbody>\n",
       "    <tr>\n",
       "      <th>0</th>\n",
       "      <td>Car Tyre</td>\n",
       "      <td>63</td>\n",
       "      <td>119</td>\n",
       "      <td>412</td>\n",
       "    </tr>\n",
       "  </tbody>\n",
       "</table>\n",
       "</div>"
      ],
      "text/plain": [
       "    Product Negative Neutral Positive\n",
       "0  Car Tyre       63     119      412"
      ]
     },
     "execution_count": 29,
     "metadata": {},
     "output_type": "execute_result"
    }
   ],
   "source": [
    "car_tyre_sa_df = sentiment_analysis.loc[(sentiment_analysis['Product'] == 'Car Tyre')]\n",
    "t_df = pd.DataFrame(car_tyre_sa_df.T.values[2:], columns= ['Negative', 'Neutral', 'Positive'])\n",
    "t_df.insert(0,'Product', 'Car Tyre')\n",
    "t_df"
   ]
  },
  {
   "cell_type": "code",
   "execution_count": 30,
   "id": "998a9793-67bc-4083-a971-ef3c57a2915a",
   "metadata": {},
   "outputs": [
    {
     "data": {
      "image/png": "[encoded data removed]",
      "text/plain": [
       "<Figure size 720x360 with 1 Axes>"
      ]
     },
     "metadata": {
      "needs_background": "light"
     },
     "output_type": "display_data"
    }
   ],
   "source": [
    "# creating the bar plot\n",
    "fig = plt.figure(figsize = (10, 5))    \n",
    "plt.bar(car_tyre_sa_df['Vader Analysis'], car_tyre_sa_df['counts'], color=['red','gray','green'], width = 0.4) \n",
    "plt.xlabel(\"Sentiment Label\")\n",
    "plt.ylabel(\"Sentiments Counts\")\n",
    "plt.title(\"Car Tyre Sentiment Analysis\")\n",
    "plt.show()"
   ]
  },
  {
   "cell_type": "markdown",
   "id": "6b380cf9-2226-4d6a-96de-cd2831517ba8",
   "metadata": {
    "tags": []
   },
   "source": [
    "## Summary of 'Car Windshield Washer'"
   ]
  },
  {
   "cell_type": "code",
   "execution_count": 31,
   "id": "6a11611b-9dec-40b5-8014-ab058333573c",
   "metadata": {},
   "outputs": [
    {
     "data": {
      "text/html": [
       "<div>\n",
       "<style scoped>\n",
       "    .dataframe tbody tr th:only-of-type {\n",
       "        vertical-align: middle;\n",
       "    }\n",
       "\n",
       "    .dataframe tbody tr th {\n",
       "        vertical-align: top;\n",
       "    }\n",
       "\n",
       "    .dataframe thead th {\n",
       "        text-align: right;\n",
       "    }\n",
       "</style>\n",
       "<table border=\"1\" class=\"dataframe\">\n",
       "  <thead>\n",
       "    <tr style=\"text-align: right;\">\n",
       "      <th></th>\n",
       "      <th>Product</th>\n",
       "      <th>Negative</th>\n",
       "      <th>Neutral</th>\n",
       "      <th>Positive</th>\n",
       "    </tr>\n",
       "  </thead>\n",
       "  <tbody>\n",
       "    <tr>\n",
       "      <th>0</th>\n",
       "      <td>Car Windshield Washer</td>\n",
       "      <td>24</td>\n",
       "      <td>36</td>\n",
       "      <td>156</td>\n",
       "    </tr>\n",
       "  </tbody>\n",
       "</table>\n",
       "</div>"
      ],
      "text/plain": [
       "                 Product Negative Neutral Positive\n",
       "0  Car Windshield Washer       24      36      156"
      ]
     },
     "execution_count": 31,
     "metadata": {},
     "output_type": "execute_result"
    }
   ],
   "source": [
    "car_windshielwasher_sa_df = sentiment_analysis.loc[(sentiment_analysis['Product'] == 'Car Windshield Washer')]\n",
    "wsw_df = pd.DataFrame(car_windshielwasher_sa_df.T.values[2:], columns= ['Negative', 'Neutral', 'Positive'])\n",
    "wsw_df.insert(0,'Product', 'Car Windshield Washer')\n",
    "wsw_df"
   ]
  },
  {
   "cell_type": "code",
   "execution_count": 32,
   "id": "6a59ddfd-cb62-4f15-902b-86bff0ae024a",
   "metadata": {},
   "outputs": [
    {
     "data": {
      "image/png": "[encoded data removed]",
      "text/plain": [
       "<Figure size 720x360 with 1 Axes>"
      ]
     },
     "metadata": {
      "needs_background": "light"
     },
     "output_type": "display_data"
    }
   ],
   "source": [
    "# creating the bar plot\n",
    "fig = plt.figure(figsize = (10, 5))    \n",
    "plt.bar(car_windshielwasher_sa_df['Vader Analysis'], car_windshielwasher_sa_df['counts'], color=['red','gray','green'], width = 0.4) \n",
    "plt.xlabel(\"Sentiment Label\")\n",
    "plt.ylabel(\"Sentiments Counts\")\n",
    "plt.title(\"Car Wind Shield Washer Sentiment Analysis\")\n",
    "plt.show()"
   ]
  },
  {
   "cell_type": "markdown",
   "id": "f2e067f0-f265-4e1d-bf57-fa806df355df",
   "metadata": {
    "tags": []
   },
   "source": [
    "## Summary of 'Car Wiper'"
   ]
  },
  {
   "cell_type": "code",
   "execution_count": 33,
   "id": "9d39d0f7-87c0-4420-9228-32715a320cb4",
   "metadata": {},
   "outputs": [
    {
     "data": {
      "text/html": [
       "<div>\n",
       "<style scoped>\n",
       "    .dataframe tbody tr th:only-of-type {\n",
       "        vertical-align: middle;\n",
       "    }\n",
       "\n",
       "    .dataframe tbody tr th {\n",
       "        vertical-align: top;\n",
       "    }\n",
       "\n",
       "    .dataframe thead th {\n",
       "        text-align: right;\n",
       "    }\n",
       "</style>\n",
       "<table border=\"1\" class=\"dataframe\">\n",
       "  <thead>\n",
       "    <tr style=\"text-align: right;\">\n",
       "      <th></th>\n",
       "      <th>Product</th>\n",
       "      <th>Negative</th>\n",
       "      <th>Neutral</th>\n",
       "      <th>Positive</th>\n",
       "    </tr>\n",
       "  </thead>\n",
       "  <tbody>\n",
       "    <tr>\n",
       "      <th>0</th>\n",
       "      <td>Car Wiper</td>\n",
       "      <td>91</td>\n",
       "      <td>78</td>\n",
       "      <td>468</td>\n",
       "    </tr>\n",
       "  </tbody>\n",
       "</table>\n",
       "</div>"
      ],
      "text/plain": [
       "     Product Negative Neutral Positive\n",
       "0  Car Wiper       91      78      468"
      ]
     },
     "execution_count": 33,
     "metadata": {},
     "output_type": "execute_result"
    }
   ],
   "source": [
    "car_wiper_sa_df = sentiment_analysis.loc[(sentiment_analysis['Product'] == 'Car Wiper')]\n",
    "wiper_df = pd.DataFrame(car_wiper_sa_df.T.values[2:], columns= ['Negative', 'Neutral', 'Positive'])\n",
    "wiper_df.insert(0,'Product', 'Car Wiper')\n",
    "wiper_df"
   ]
  },
  {
   "cell_type": "code",
   "execution_count": 34,
   "id": "7a6119a3-d1a1-4dbb-8af2-cf8ba7a8ae76",
   "metadata": {},
   "outputs": [
    {
     "data": {
      "image/png": "[encoded data removed]",
      "text/plain": [
       "<Figure size 720x360 with 1 Axes>"
      ]
     },
     "metadata": {
      "needs_background": "light"
     },
     "output_type": "display_data"
    }
   ],
   "source": [
    "# creating the bar plot\n",
    "fig = plt.figure(figsize = (10, 5))    \n",
    "plt.bar(car_wiper_sa_df['Vader Analysis'], car_wiper_sa_df['counts'], color=['red','gray','green'], width = 0.4) \n",
    "plt.xlabel(\"Sentiment Label\")\n",
    "plt.ylabel(\"Sentiments Counts\")\n",
    "plt.title(\"Car Wiper Sentiment Analysis\")\n",
    "plt.show()"
   ]
  },
  {
   "cell_type": "markdown",
   "id": "d3bde73d-a373-4e14-8981-666c2be65f4f",
   "metadata": {
    "tags": []
   },
   "source": [
    "# Feature construction and extraction"
   ]
  },
  {
   "cell_type": "markdown",
   "id": "0114885f-fbb4-41b8-bcb6-cf025111179a",
   "metadata": {
    "tags": []
   },
   "source": [
    "## Construct DTM"
   ]
  },
  {
   "cell_type": "markdown",
   "id": "93e27f8a-7426-4d57-abd8-6fae2eba838e",
   "metadata": {},
   "source": [
    "- <b>Build a panda DF, index as stemmed vocabulary and column as tokenized words\n",
    "- <b>Build DTM under TFIDF scheme"
   ]
  },
  {
   "cell_type": "markdown",
   "id": "fa2c4306-6da8-49e3-944e-1d22c46ad90d",
   "metadata": {},
   "source": [
    "- <b>1. Build/Construct vectorizer by providing Lemmatized Text, n value to calculate Ngram \n",
    "- <b>2. Transform vectorizer to get BOW, feature names\n",
    "- <b>3. Construct dataframe of bag of words\n",
    "- <b>4. Build TFIDF matrix from bag of words\n",
    "- <b>5. Get Words of highest weights\n",
    "- <b>6. Build dataframe with word,count,weight\n",
    "- <b>7. Get Cosine similarity\n",
    "- <b>8. Get the Distance matrix"
   ]
  },
  {
   "cell_type": "code",
   "execution_count": 35,
   "id": "69dca5ca-c215-4d78-a4b9-6e71e3e51d72",
   "metadata": {
    "tags": []
   },
   "outputs": [],
   "source": [
    "def buildVector(text,ngram):\n",
    "    cvector = CountVectorizer(max_df=1.0,  min_df=0.0, vocabulary=None, ngram_range=(1,ngram))\n",
    "    cvectorfit = cvector.fit(text)\n",
    "    \n",
    "    bag_of_words = cvectorfit.transform(text)\n",
    "    feature_names = cvectorfit.get_feature_names_out()\n",
    "    bag_of_words_df = pd.DataFrame(bag_of_words.todense(), columns=feature_names)\n",
    "    \n",
    "    tfidftransformer = TfidfTransformer()\n",
    "    tfidf = tfidftransformer.fit_transform(bag_of_words)\n",
    "    \n",
    "    word_cnts = np.asarray(bag_of_words.sum(axis=0)).ravel().tolist()\n",
    "    df_cnts = pd.DataFrame({'word': feature_names, 'count': word_cnts})\n",
    "    df_cnts = df_cnts.sort_values('count', ascending=False)\n",
    "    weights = np.asarray(tfidf.mean(axis=0)).ravel().tolist()\n",
    "    df_weights = pd.DataFrame({'word': feature_names, 'weight': weights})\n",
    "    df_weights = df_weights.sort_values('weight', ascending=False)\n",
    "\n",
    "    df_weights = df_weights.merge(df_cnts, on='word', how='left')\n",
    "    df_weights = df_weights[['word', 'count', 'weight']]\n",
    "\n",
    "    cos_sim = cosine_similarity(tfidf, tfidf)\n",
    "    samp_dist = 1 - cos_sim\n",
    "    \n",
    "    return cvectorfit, feature_names, bag_of_words_df, tfidf, df_weights, cos_sim, samp_dist"
   ]
  },
  {
   "cell_type": "code",
   "execution_count": 36,
   "id": "bba981f2-6a51-40ae-bcae-f5ad89f116ea",
   "metadata": {},
   "outputs": [],
   "source": [
    "cvec, feature_names, bag_of_words_df, tfidf, df_weights, cos_sim, samp_dist = buildVector(car_amazon_df['Lemma'],2)\n",
    "df_tfidf = pd.DataFrame(tfidf.todense(), columns=feature_names)"
   ]
  },
  {
   "cell_type": "code",
   "execution_count": 37,
   "id": "cc261d51-8ebe-447a-a304-3e744207f371",
   "metadata": {},
   "outputs": [
    {
     "name": "stdout",
     "output_type": "stream",
     "text": [
      "Features:\n"
     ]
    },
    {
     "data": {
      "text/plain": [
       "array(['000km', '000km go', '000km odo', '000kms', '000kms gearbox', '0w',\n",
       "       '0w engin', '0w20', '0w20 suggest', '0w30'], dtype=object)"
      ]
     },
     "execution_count": 37,
     "metadata": {},
     "output_type": "execute_result"
    }
   ],
   "source": [
    "print(\"Features:\")\n",
    "feature_names[:10]"
   ]
  },
  {
   "cell_type": "code",
   "execution_count": 38,
   "id": "10d2e399-0f5b-4adf-b5cf-ad650102ed96",
   "metadata": {},
   "outputs": [
    {
     "name": "stdout",
     "output_type": "stream",
     "text": [
      "Weights:\n"
     ]
    },
    {
     "data": {
      "text/html": [
       "<div>\n",
       "<style scoped>\n",
       "    .dataframe tbody tr th:only-of-type {\n",
       "        vertical-align: middle;\n",
       "    }\n",
       "\n",
       "    .dataframe tbody tr th {\n",
       "        vertical-align: top;\n",
       "    }\n",
       "\n",
       "    .dataframe thead th {\n",
       "        text-align: right;\n",
       "    }\n",
       "</style>\n",
       "<table border=\"1\" class=\"dataframe\">\n",
       "  <thead>\n",
       "    <tr style=\"text-align: right;\">\n",
       "      <th></th>\n",
       "      <th>word</th>\n",
       "      <th>count</th>\n",
       "      <th>weight</th>\n",
       "    </tr>\n",
       "  </thead>\n",
       "  <tbody>\n",
       "    <tr>\n",
       "      <th>0</th>\n",
       "      <td>good</td>\n",
       "      <td>1066</td>\n",
       "      <td>0.072372</td>\n",
       "    </tr>\n",
       "    <tr>\n",
       "      <th>1</th>\n",
       "      <td>qualiti</td>\n",
       "      <td>503</td>\n",
       "      <td>0.021476</td>\n",
       "    </tr>\n",
       "    <tr>\n",
       "      <th>2</th>\n",
       "      <td>nice</td>\n",
       "      <td>142</td>\n",
       "      <td>0.018331</td>\n",
       "    </tr>\n",
       "    <tr>\n",
       "      <th>3</th>\n",
       "      <td>use</td>\n",
       "      <td>684</td>\n",
       "      <td>0.017791</td>\n",
       "    </tr>\n",
       "    <tr>\n",
       "      <th>4</th>\n",
       "      <td>money</td>\n",
       "      <td>223</td>\n",
       "      <td>0.013999</td>\n",
       "    </tr>\n",
       "  </tbody>\n",
       "</table>\n",
       "</div>"
      ],
      "text/plain": [
       "      word  count    weight\n",
       "0     good   1066  0.072372\n",
       "1  qualiti    503  0.021476\n",
       "2     nice    142  0.018331\n",
       "3      use    684  0.017791\n",
       "4    money    223  0.013999"
      ]
     },
     "execution_count": 38,
     "metadata": {},
     "output_type": "execute_result"
    }
   ],
   "source": [
    "print(\"Weights:\")\n",
    "df_weights.head(5)"
   ]
  },
  {
   "cell_type": "code",
   "execution_count": 39,
   "id": "7e091b49-be6b-44d4-8742-1c2a27cac520",
   "metadata": {},
   "outputs": [
    {
     "name": "stdout",
     "output_type": "stream",
     "text": [
      "cos_sim[2497,2497] (a square matrix of length and width ) \n"
     ]
    },
    {
     "data": {
      "text/html": [
       "<div>\n",
       "<style scoped>\n",
       "    .dataframe tbody tr th:only-of-type {\n",
       "        vertical-align: middle;\n",
       "    }\n",
       "\n",
       "    .dataframe tbody tr th {\n",
       "        vertical-align: top;\n",
       "    }\n",
       "\n",
       "    .dataframe thead th {\n",
       "        text-align: right;\n",
       "    }\n",
       "</style>\n",
       "<table border=\"1\" class=\"dataframe\">\n",
       "  <thead>\n",
       "    <tr style=\"text-align: right;\">\n",
       "      <th></th>\n",
       "      <th>0</th>\n",
       "      <th>1</th>\n",
       "      <th>2</th>\n",
       "      <th>3</th>\n",
       "      <th>4</th>\n",
       "      <th>5</th>\n",
       "      <th>6</th>\n",
       "      <th>7</th>\n",
       "      <th>8</th>\n",
       "      <th>9</th>\n",
       "      <th>...</th>\n",
       "      <th>2487</th>\n",
       "      <th>2488</th>\n",
       "      <th>2489</th>\n",
       "      <th>2490</th>\n",
       "      <th>2491</th>\n",
       "      <th>2492</th>\n",
       "      <th>2493</th>\n",
       "      <th>2494</th>\n",
       "      <th>2495</th>\n",
       "      <th>2496</th>\n",
       "    </tr>\n",
       "  </thead>\n",
       "  <tbody>\n",
       "    <tr>\n",
       "      <th>0</th>\n",
       "      <td>1.000000</td>\n",
       "      <td>0.0</td>\n",
       "      <td>0.021018</td>\n",
       "      <td>0.020996</td>\n",
       "      <td>0.000000</td>\n",
       "      <td>0.0</td>\n",
       "      <td>0.00000</td>\n",
       "      <td>0.070301</td>\n",
       "      <td>0.0</td>\n",
       "      <td>0.0</td>\n",
       "      <td>...</td>\n",
       "      <td>0.000000</td>\n",
       "      <td>0.012595</td>\n",
       "      <td>0.00000</td>\n",
       "      <td>0.000000</td>\n",
       "      <td>0.032065</td>\n",
       "      <td>0.011641</td>\n",
       "      <td>0.000000</td>\n",
       "      <td>0.007754</td>\n",
       "      <td>0.013941</td>\n",
       "      <td>0.024825</td>\n",
       "    </tr>\n",
       "    <tr>\n",
       "      <th>1</th>\n",
       "      <td>0.000000</td>\n",
       "      <td>1.0</td>\n",
       "      <td>0.000000</td>\n",
       "      <td>0.000000</td>\n",
       "      <td>0.009365</td>\n",
       "      <td>0.0</td>\n",
       "      <td>0.00000</td>\n",
       "      <td>0.000000</td>\n",
       "      <td>0.0</td>\n",
       "      <td>0.0</td>\n",
       "      <td>...</td>\n",
       "      <td>0.025386</td>\n",
       "      <td>0.000000</td>\n",
       "      <td>0.00000</td>\n",
       "      <td>0.014213</td>\n",
       "      <td>0.011129</td>\n",
       "      <td>0.000000</td>\n",
       "      <td>0.000000</td>\n",
       "      <td>0.008544</td>\n",
       "      <td>0.000000</td>\n",
       "      <td>0.000000</td>\n",
       "    </tr>\n",
       "    <tr>\n",
       "      <th>2</th>\n",
       "      <td>0.021018</td>\n",
       "      <td>0.0</td>\n",
       "      <td>1.000000</td>\n",
       "      <td>0.059484</td>\n",
       "      <td>0.014516</td>\n",
       "      <td>0.0</td>\n",
       "      <td>0.01425</td>\n",
       "      <td>0.026982</td>\n",
       "      <td>0.0</td>\n",
       "      <td>0.0</td>\n",
       "      <td>...</td>\n",
       "      <td>0.000000</td>\n",
       "      <td>0.025134</td>\n",
       "      <td>0.02751</td>\n",
       "      <td>0.003577</td>\n",
       "      <td>0.025184</td>\n",
       "      <td>0.000000</td>\n",
       "      <td>0.006279</td>\n",
       "      <td>0.016202</td>\n",
       "      <td>0.019914</td>\n",
       "      <td>0.006352</td>\n",
       "    </tr>\n",
       "  </tbody>\n",
       "</table>\n",
       "<p>3 rows × 2497 columns</p>\n",
       "</div>"
      ],
      "text/plain": [
       "       0     1         2         3         4     5        6         7     \\\n",
       "0  1.000000   0.0  0.021018  0.020996  0.000000   0.0  0.00000  0.070301   \n",
       "1  0.000000   1.0  0.000000  0.000000  0.009365   0.0  0.00000  0.000000   \n",
       "2  0.021018   0.0  1.000000  0.059484  0.014516   0.0  0.01425  0.026982   \n",
       "\n",
       "   8     9     ...      2487      2488     2489      2490      2491      2492  \\\n",
       "0   0.0   0.0  ...  0.000000  0.012595  0.00000  0.000000  0.032065  0.011641   \n",
       "1   0.0   0.0  ...  0.025386  0.000000  0.00000  0.014213  0.011129  0.000000   \n",
       "2   0.0   0.0  ...  0.000000  0.025134  0.02751  0.003577  0.025184  0.000000   \n",
       "\n",
       "       2493      2494      2495      2496  \n",
       "0  0.000000  0.007754  0.013941  0.024825  \n",
       "1  0.000000  0.008544  0.000000  0.000000  \n",
       "2  0.006279  0.016202  0.019914  0.006352  \n",
       "\n",
       "[3 rows x 2497 columns]"
      ]
     },
     "execution_count": 39,
     "metadata": {},
     "output_type": "execute_result"
    }
   ],
   "source": [
    "sentences = car_amazon_df['Lemma'].values.tolist()\n",
    "print(\"cos_sim[%d,%d] (a square matrix of length and width ) \" % (len(sentences), len(sentences)))\n",
    "df = pd.DataFrame(np.array(cos_sim))\n",
    "df.head(3)"
   ]
  },
  {
   "cell_type": "code",
   "execution_count": 40,
   "id": "36506018-b22a-452b-8c2d-c9b3534803bd",
   "metadata": {},
   "outputs": [
    {
     "name": "stdout",
     "output_type": "stream",
     "text": [
      "df_bag_of_words[2497,22549]:\n"
     ]
    },
    {
     "data": {
      "text/html": [
       "<div>\n",
       "<style scoped>\n",
       "    .dataframe tbody tr th:only-of-type {\n",
       "        vertical-align: middle;\n",
       "    }\n",
       "\n",
       "    .dataframe tbody tr th {\n",
       "        vertical-align: top;\n",
       "    }\n",
       "\n",
       "    .dataframe thead th {\n",
       "        text-align: right;\n",
       "    }\n",
       "</style>\n",
       "<table border=\"1\" class=\"dataframe\">\n",
       "  <thead>\n",
       "    <tr style=\"text-align: right;\">\n",
       "      <th></th>\n",
       "      <th>000km</th>\n",
       "      <th>000km go</th>\n",
       "      <th>000km odo</th>\n",
       "      <th>000kms</th>\n",
       "      <th>000kms gearbox</th>\n",
       "      <th>0w</th>\n",
       "      <th>0w engin</th>\n",
       "      <th>0w20</th>\n",
       "      <th>0w20 suggest</th>\n",
       "      <th>0w30</th>\n",
       "      <th>...</th>\n",
       "      <th>zire</th>\n",
       "      <th>zire cheap</th>\n",
       "      <th>zone</th>\n",
       "      <th>zone return</th>\n",
       "      <th>zvx</th>\n",
       "      <th>zx</th>\n",
       "      <th>zx break</th>\n",
       "      <th>zxi</th>\n",
       "      <th>zxi easi</th>\n",
       "      <th>zxi improv</th>\n",
       "    </tr>\n",
       "  </thead>\n",
       "  <tbody>\n",
       "    <tr>\n",
       "      <th>0</th>\n",
       "      <td>0</td>\n",
       "      <td>0</td>\n",
       "      <td>0</td>\n",
       "      <td>0</td>\n",
       "      <td>0</td>\n",
       "      <td>0</td>\n",
       "      <td>0</td>\n",
       "      <td>0</td>\n",
       "      <td>0</td>\n",
       "      <td>0</td>\n",
       "      <td>...</td>\n",
       "      <td>0</td>\n",
       "      <td>0</td>\n",
       "      <td>0</td>\n",
       "      <td>0</td>\n",
       "      <td>0</td>\n",
       "      <td>0</td>\n",
       "      <td>0</td>\n",
       "      <td>0</td>\n",
       "      <td>0</td>\n",
       "      <td>0</td>\n",
       "    </tr>\n",
       "    <tr>\n",
       "      <th>1</th>\n",
       "      <td>0</td>\n",
       "      <td>0</td>\n",
       "      <td>0</td>\n",
       "      <td>0</td>\n",
       "      <td>0</td>\n",
       "      <td>0</td>\n",
       "      <td>0</td>\n",
       "      <td>0</td>\n",
       "      <td>0</td>\n",
       "      <td>0</td>\n",
       "      <td>...</td>\n",
       "      <td>0</td>\n",
       "      <td>0</td>\n",
       "      <td>0</td>\n",
       "      <td>0</td>\n",
       "      <td>0</td>\n",
       "      <td>0</td>\n",
       "      <td>0</td>\n",
       "      <td>0</td>\n",
       "      <td>0</td>\n",
       "      <td>0</td>\n",
       "    </tr>\n",
       "    <tr>\n",
       "      <th>2</th>\n",
       "      <td>0</td>\n",
       "      <td>0</td>\n",
       "      <td>0</td>\n",
       "      <td>0</td>\n",
       "      <td>0</td>\n",
       "      <td>0</td>\n",
       "      <td>0</td>\n",
       "      <td>0</td>\n",
       "      <td>0</td>\n",
       "      <td>0</td>\n",
       "      <td>...</td>\n",
       "      <td>0</td>\n",
       "      <td>0</td>\n",
       "      <td>0</td>\n",
       "      <td>0</td>\n",
       "      <td>0</td>\n",
       "      <td>0</td>\n",
       "      <td>0</td>\n",
       "      <td>0</td>\n",
       "      <td>0</td>\n",
       "      <td>0</td>\n",
       "    </tr>\n",
       "  </tbody>\n",
       "</table>\n",
       "<p>3 rows × 22549 columns</p>\n",
       "</div>"
      ],
      "text/plain": [
       "   000km  000km go  000km odo  000kms  000kms gearbox  0w  0w engin  0w20  \\\n",
       "0      0         0          0       0               0   0         0     0   \n",
       "1      0         0          0       0               0   0         0     0   \n",
       "2      0         0          0       0               0   0         0     0   \n",
       "\n",
       "   0w20 suggest  0w30  ...  zire  zire cheap  zone  zone return  zvx  zx  \\\n",
       "0             0     0  ...     0           0     0            0    0   0   \n",
       "1             0     0  ...     0           0     0            0    0   0   \n",
       "2             0     0  ...     0           0     0            0    0   0   \n",
       "\n",
       "   zx break  zxi  zxi easi  zxi improv  \n",
       "0         0    0         0           0  \n",
       "1         0    0         0           0  \n",
       "2         0    0         0           0  \n",
       "\n",
       "[3 rows x 22549 columns]"
      ]
     },
     "execution_count": 40,
     "metadata": {},
     "output_type": "execute_result"
    }
   ],
   "source": [
    "print(\"df_bag_of_words[%d,%d]:\" % (len(sentences), len(feature_names)))\n",
    "bag_of_words_df.head(3)"
   ]
  },
  {
   "cell_type": "code",
   "execution_count": 41,
   "id": "5a84396d-4058-4004-ac35-794d593278f8",
   "metadata": {},
   "outputs": [],
   "source": [
    "s_word_freq = pd.Series(df_weights['count'])\n",
    "s_word_freq.index = df_weights['word']\n",
    "di_word_freq = s_word_freq.to_dict()"
   ]
  },
  {
   "cell_type": "markdown",
   "id": "f81b877b-4fed-4492-a60d-bea5bf77f6cd",
   "metadata": {},
   "source": [
    "### Wordclouds"
   ]
  },
  {
   "cell_type": "code",
   "execution_count": 42,
   "id": "7232e0a3-e632-446f-96e3-07410617f60d",
   "metadata": {},
   "outputs": [],
   "source": [
    "def generate_word_cloud(text):\n",
    "    wordcloud = WordCloud(\n",
    "        width = 3000,\n",
    "        height = 2000,\n",
    "        background_color = 'white').generate_from_frequencies(text)\n",
    "    fig = plt.figure(\n",
    "        figsize = (15, 8),\n",
    "        facecolor = 'k',\n",
    "        edgecolor = 'k')\n",
    "    plt.imshow(wordcloud, interpolation = 'bilinear')\n",
    "    plt.axis('off')\n",
    "    plt.tight_layout(pad=0)\n",
    "    plt.show()"
   ]
  },
  {
   "cell_type": "code",
   "execution_count": 43,
   "id": "578e2a07-3d35-47ab-8a40-83b0c3d68474",
   "metadata": {
    "tags": []
   },
   "outputs": [
    {
     "data": {
      "image/png": "[encoded data removed]",
      "text/plain": [
       "<Figure size 1080x576 with 1 Axes>"
      ]
     },
     "metadata": {},
     "output_type": "display_data"
    }
   ],
   "source": [
    "generate_word_cloud(di_word_freq)"
   ]
  },
  {
   "cell_type": "markdown",
   "id": "7112367c-d305-43f9-baa9-0886f8210956",
   "metadata": {},
   "source": [
    "#### Word Cloud Analysis\n",
    "\n",
    "The most prominent features we can identify are:\n",
    "\n",
    "1. good\n",
    "2. price\n",
    "3. light\n",
    "4. instal\n",
    "5. look\n",
    "\n",
    "Since, 90% of the ratings are postive\n",
    "\n",
    "###### From the above list, we can say good reviews came for the products tyre,wiper,windshield etc."
   ]
  },
  {
   "cell_type": "markdown",
   "id": "25d68a49-56ef-44bb-9c9d-31a181579793",
   "metadata": {},
   "source": [
    "In Gensim model, we are trying to explore as many features as the model can identify using coherence values and perplexity fitb"
   ]
  },
  {
   "cell_type": "markdown",
   "id": "7d547ef6-ba72-4027-ba2a-00ec75526fb2",
   "metadata": {},
   "source": [
    "#### Step 1: Text cleaning and Tokenisation\n",
    "\n",
    "Clean the text and then remove any additional stop words\n",
    "NLTK extended Stop words list\n",
    "Below we are removing common words that do not provide latent feature specific words. \n",
    "Words like uber, driver, couldnt, taking, dude, something etc"
   ]
  },
  {
   "cell_type": "markdown",
   "id": "ab2156f2-cb4b-4f49-92e5-0c479f64605c",
   "metadata": {},
   "source": [
    "### Please note that we are running Gensim Model and Text Classification for Reviews of all products\n",
    "\n",
    "We want to identify the features that are contributing to all product Ratings"
   ]
  },
  {
   "cell_type": "code",
   "execution_count": 44,
   "id": "b28bc350-feb5-4fed-97d4-558b0aeda88e",
   "metadata": {},
   "outputs": [],
   "source": [
    "from nltk.corpus import stopwords\n",
    "stop_words = stopwords.words('english')\n",
    "stop_words.extend(['car','oil','product', 'wiper','windshield','amazon','buy','time','even','work','tyre','away', 'every','certain','finally','got','get', 'im','even','cant', 'would',\n",
    "                  'said', 'could', 'wanted', 'needed', 'end', 'taking', 'dude','gotten', 'since', 'le', 'thus',\n",
    "                  'tx', 'whatever', 'therefore','ever', 'pa', 'wasnt','still', 'gave','yall','something', 'theyre',\n",
    "                  'dont', 'need',  'wont', 'doesnt',  'nothing', 'ive','saying','u','please'])"
   ]
  },
  {
   "cell_type": "code",
   "execution_count": 45,
   "id": "c4ca4469-9e9c-46fb-946d-97adb563d8e5",
   "metadata": {
    "tags": []
   },
   "outputs": [],
   "source": [
    "lemma = WordNetLemmatizer()\n",
    "def textClean(text0):\n",
    "    text1 = [strip_punctuation(doc) for doc in text0]\n",
    "    text1 = [strip_tags(doc) for doc in text1]\n",
    "    text1 = [strip_numeric(doc) for doc in text1]\n",
    "    text1 = [[\" \".join([i for i in doc.lower().split() if i not in stop_words])] for doc in text1]\n",
    "    text2 = [[word for word in ' '.join(doc).split()] for doc in text1]\n",
    "    normalized = [[\" \".join([lemma.lemmatize(word) for word in ' '.join(doc).split()])] for doc in text2]\n",
    "    return normalized\n",
    "\n",
    "corpus1 = textClean(car_amazon_df['Lemma'])"
   ]
  },
  {
   "cell_type": "markdown",
   "id": "e7b9581f-126f-4f5c-9350-c356d084e9c6",
   "metadata": {},
   "source": [
    "#### Step 2: Creating corpus for Topic Modelling\n",
    "\n",
    "Gensim supports building of dictionary object which we are applying on n-gram we have built.\n",
    "\n",
    "After, creating the dictionary, we are creating the TF or term frequency count based on DTM \n",
    "\n",
    "We have kept the min_count and threshold of these values on a bit higher side to get better bigrams from the Reviews as the reviews are quite descriptive"
   ]
  },
  {
   "cell_type": "code",
   "execution_count": 46,
   "id": "52b73226-095f-4c9c-bd87-0dc36a656b97",
   "metadata": {
    "tags": []
   },
   "outputs": [
    {
     "name": "stdout",
     "output_type": "stream",
     "text": [
      "[[(0, 1), (1, 1), (2, 1), (3, 1), (4, 1), (5, 1), (6, 1)]]\n"
     ]
    }
   ],
   "source": [
    "## DTM building etc via gensim\n",
    "corpus2 = [[word for word in ' '.join(doc).split()] for doc in corpus1]  # word_tokenize first\n",
    "\n",
    "# Building the bigram and trigram models\n",
    "bigram = gensim.models.Phrases(corpus2, min_count=2, threshold=100) # higher threshold fewer phrases.\n",
    "trigram = gensim.models.Phrases(bigram[corpus2], threshold=100)  \n",
    "\n",
    "# Faster way to get a sentence clubbed as a trigram/bigram\n",
    "bigram_mod = gensim.models.phrases.Phraser(bigram)\n",
    "trigram_mod = gensim.models.phrases.Phraser(trigram)\n",
    "\n",
    "# print(trigram_mod[bigram_mod[corpus2[0]]])  # See trigram example\n",
    "\n",
    "id2word = corpora.Dictionary(corpus2)  # Create Dictionary\n",
    "corpus = [id2word.doc2bow(text) for text in corpus2]  # Building gensim corpus. TF DTM creation.\n",
    "print(corpus[:1])  # View one doc in abstract form"
   ]
  },
  {
   "cell_type": "code",
   "execution_count": 47,
   "id": "06687907-a14e-4ed2-99aa-e695230ffcdf",
   "metadata": {},
   "outputs": [
    {
     "data": {
      "text/plain": [
       "[]"
      ]
     },
     "execution_count": 47,
     "metadata": {},
     "output_type": "execute_result"
    }
   ],
   "source": [
    "# Human readable format of corpus (term-frequency)\n",
    "a0 = [[(id2word[id], freq) for id, freq in cp] for cp in corpus[:1]]\n",
    "[x for (x, y) in a0[0] if y >4]"
   ]
  },
  {
   "cell_type": "markdown",
   "id": "7655022c-7805-4920-ad1e-dbd45d920b8c",
   "metadata": {
    "tags": []
   },
   "source": [
    "#### Step 3: Building the Topic Model\n",
    "\n",
    "we have given the number of topics as 4 to extract latent topics"
   ]
  },
  {
   "cell_type": "code",
   "execution_count": 48,
   "id": "070ffce9-ffe5-4a60-9206-46f9f26d4d0a",
   "metadata": {},
   "outputs": [],
   "source": [
    "# Build LDA model for (say) K=4 topics\n",
    "lda_model = gensim.models.ldamodel.LdaModel(corpus=corpus,\n",
    "                                           id2word=id2word,\n",
    "                                           num_topics=6, \n",
    "                                           random_state=100,\n",
    "                                           update_every=1,\n",
    "                                           chunksize=100,\n",
    "                                           passes=10,\n",
    "                                           alpha='auto',\n",
    "                                           per_word_topics=True)"
   ]
  },
  {
   "cell_type": "markdown",
   "id": "a1e275ee-961b-41a1-b3c6-212c012e1d40",
   "metadata": {},
   "source": [
    "#### Step 4: Obtain Factor Matrices\n",
    "\n",
    "We obtain two factor Matrices from Gensim data\n",
    "1. beta - maps tokens to topics\n",
    "2. gamma - maps docs to topics"
   ]
  },
  {
   "cell_type": "code",
   "execution_count": 49,
   "id": "ba0bd964-8de0-4cfd-ba17-f6f6f4fe8e84",
   "metadata": {},
   "outputs": [
    {
     "data": {
      "text/plain": [
       "Index(['beauti', 'lover', 'must', 'nd', 'perfect', 'purchas', 'tri', 'accur',\n",
       "       'bmw', 'buck',\n",
       "       ...\n",
       "       'mode', 'ventochang', 'child', 'mess', 'windshil', 'revers', 'utilis',\n",
       "       'microfibr', 'spong', 'tile'],\n",
       "      dtype='object', length=3357)"
      ]
     },
     "execution_count": 49,
     "metadata": {},
     "output_type": "execute_result"
    }
   ],
   "source": [
    "## def func for beta_df\n",
    "import pandas as pd\n",
    "\n",
    "## obtain the factor matrices - beta\n",
    "def build_beta_df(lda_model=lda_model, id2word=id2word):\n",
    "    beta = lda_model.get_topics()  # shape (num_topics, vocabulary_size).\n",
    "    beta_df = pd.DataFrame(data=beta)\n",
    "\n",
    "    # convert colnames in beta_df 2 tokens\n",
    "    token2col = list(id2word.token2id)\n",
    "    beta_df.columns = token2col\n",
    "    # beta_df.loc[0,:].sum()  # checking if rows sum to 1\n",
    "\n",
    "    # convert rownames too, eh? Using format(), .shape[] and range()\n",
    "    rowNames=['topic' + format(x+1, '02d') for x in range(beta_df.shape[0])]\n",
    "    rowNames_series = pd.Series(rowNames)\n",
    "    beta_df.rename(index=rowNames_series, inplace=True)\n",
    "    return(beta_df)\n",
    "\n",
    "# invoke func\n",
    "beta_df = build_beta_df(lda_model=lda_model, id2word=id2word)\n",
    "beta_df.iloc[:8, :8]\n",
    "beta_df.columns"
   ]
  },
  {
   "cell_type": "code",
   "execution_count": 50,
   "id": "3a3e164a-4930-499d-a47a-3e8e83a42542",
   "metadata": {},
   "outputs": [
    {
     "data": {
      "text/html": [
       "<div>\n",
       "<style scoped>\n",
       "    .dataframe tbody tr th:only-of-type {\n",
       "        vertical-align: middle;\n",
       "    }\n",
       "\n",
       "    .dataframe tbody tr th {\n",
       "        vertical-align: top;\n",
       "    }\n",
       "\n",
       "    .dataframe thead th {\n",
       "        text-align: right;\n",
       "    }\n",
       "</style>\n",
       "<table border=\"1\" class=\"dataframe\">\n",
       "  <thead>\n",
       "    <tr style=\"text-align: right;\">\n",
       "      <th></th>\n",
       "      <th>topic01</th>\n",
       "      <th>topic02</th>\n",
       "      <th>topic03</th>\n",
       "      <th>topic04</th>\n",
       "      <th>topic05</th>\n",
       "      <th>topic06</th>\n",
       "    </tr>\n",
       "  </thead>\n",
       "  <tbody>\n",
       "    <tr>\n",
       "      <th>0</th>\n",
       "      <td>0.077605</td>\n",
       "      <td>0.436617</td>\n",
       "      <td>0.120704</td>\n",
       "      <td>0.126718</td>\n",
       "      <td>0.182362</td>\n",
       "      <td>0.055993</td>\n",
       "    </tr>\n",
       "    <tr>\n",
       "      <th>1</th>\n",
       "      <td>0.596685</td>\n",
       "      <td>0.032698</td>\n",
       "      <td>0.137048</td>\n",
       "      <td>0.100964</td>\n",
       "      <td>0.104730</td>\n",
       "      <td>0.027875</td>\n",
       "    </tr>\n",
       "    <tr>\n",
       "      <th>2</th>\n",
       "      <td>0.053433</td>\n",
       "      <td>0.145939</td>\n",
       "      <td>0.511957</td>\n",
       "      <td>0.090503</td>\n",
       "      <td>0.161517</td>\n",
       "      <td>0.036651</td>\n",
       "    </tr>\n",
       "    <tr>\n",
       "      <th>3</th>\n",
       "      <td>0.116073</td>\n",
       "      <td>0.313153</td>\n",
       "      <td>0.194149</td>\n",
       "      <td>0.094297</td>\n",
       "      <td>0.186595</td>\n",
       "      <td>0.095734</td>\n",
       "    </tr>\n",
       "    <tr>\n",
       "      <th>4</th>\n",
       "      <td>0.065843</td>\n",
       "      <td>0.084420</td>\n",
       "      <td>0.237225</td>\n",
       "      <td>0.047380</td>\n",
       "      <td>0.067179</td>\n",
       "      <td>0.497953</td>\n",
       "    </tr>\n",
       "    <tr>\n",
       "      <th>5</th>\n",
       "      <td>0.123855</td>\n",
       "      <td>0.104941</td>\n",
       "      <td>0.192728</td>\n",
       "      <td>0.324391</td>\n",
       "      <td>0.164689</td>\n",
       "      <td>0.089395</td>\n",
       "    </tr>\n",
       "    <tr>\n",
       "      <th>6</th>\n",
       "      <td>0.093895</td>\n",
       "      <td>0.080663</td>\n",
       "      <td>0.239796</td>\n",
       "      <td>0.152685</td>\n",
       "      <td>0.365322</td>\n",
       "      <td>0.067639</td>\n",
       "    </tr>\n",
       "    <tr>\n",
       "      <th>7</th>\n",
       "      <td>0.110393</td>\n",
       "      <td>0.095361</td>\n",
       "      <td>0.171784</td>\n",
       "      <td>0.180492</td>\n",
       "      <td>0.362291</td>\n",
       "      <td>0.079679</td>\n",
       "    </tr>\n",
       "  </tbody>\n",
       "</table>\n",
       "</div>"
      ],
      "text/plain": [
       "    topic01   topic02   topic03   topic04   topic05   topic06\n",
       "0  0.077605  0.436617  0.120704  0.126718  0.182362  0.055993\n",
       "1  0.596685  0.032698  0.137048  0.100964  0.104730  0.027875\n",
       "2  0.053433  0.145939  0.511957  0.090503  0.161517  0.036651\n",
       "3  0.116073  0.313153  0.194149  0.094297  0.186595  0.095734\n",
       "4  0.065843  0.084420  0.237225  0.047380  0.067179  0.497953\n",
       "5  0.123855  0.104941  0.192728  0.324391  0.164689  0.089395\n",
       "6  0.093895  0.080663  0.239796  0.152685  0.365322  0.067639\n",
       "7  0.110393  0.095361  0.171784  0.180492  0.362291  0.079679"
      ]
     },
     "execution_count": 50,
     "metadata": {},
     "output_type": "execute_result"
    }
   ],
   "source": [
    "corpus0 = car_amazon_df['Lemma'].to_list()\n",
    "# func to get gamma matrix by looping using list.comp\n",
    "def build_gamma_df(lda_model, corpus0):\n",
    "    gamma_doc = []  # empty list 2 populate with gamma colms\n",
    "    num_topics = lda_model.get_topics().shape[0]\n",
    "    \n",
    "    for doc in range(len(corpus0)):\n",
    "        doc1 = corpus0[doc].split()\n",
    "        bow_doc = id2word.doc2bow(doc1)\n",
    "        gamma_doc0 = [0]*num_topics  # define list of zeroes num_topics long\n",
    "        gamma_doc1 = lda_model.get_document_topics(bow_doc)\n",
    "        gamma_doc2_x = [x for (x,y) in gamma_doc1]#; gamma_doc2_x\n",
    "        gamma_doc2_y = [y for (x,y) in gamma_doc1]#; gamma_doc2_y\n",
    "        for i in range(len(gamma_doc1)):\n",
    "            x = gamma_doc2_x[i]\n",
    "            y = gamma_doc2_y[i]\n",
    "            gamma_doc0[x] = y  # wasn't geting this in list comprehension somehow \n",
    "        gamma_doc.append(gamma_doc0)\n",
    "        \n",
    "    gamma_df = pd.DataFrame(data=gamma_doc)  # shape=num_docs x num_topics\n",
    "    topicNames=['topic' + format(x+1, '02d') for x in range(num_topics)]\n",
    "    topicNames_series = pd.Series(topicNames)\n",
    "    gamma_df.rename(columns=topicNames_series, inplace=True)\n",
    "    return(gamma_df)\n",
    "\n",
    "# now apply func\n",
    "gamma_df = build_gamma_df(lda_model=lda_model, corpus0=corpus0)\n",
    "gamma_df.iloc[:8, :]"
   ]
  },
  {
   "cell_type": "code",
   "execution_count": 51,
   "id": "3f7a3291-ab75-4a0e-95ee-ce0e5f002427",
   "metadata": {},
   "outputs": [
    {
     "data": {
      "text/plain": [
       "1.0000000223517418"
      ]
     },
     "execution_count": 51,
     "metadata": {},
     "output_type": "execute_result"
    }
   ],
   "source": [
    "gamma_df.iloc[2,:].sum() "
   ]
  },
  {
   "cell_type": "markdown",
   "id": "61ef5081-f04d-49a0-9a5f-2ded993fee3c",
   "metadata": {},
   "source": [
    "#### Step 6: Compute fit metrics for Topic Models\n",
    "\n",
    "We iterate the model with varying num_topics to obtain optimal number of topics. \n",
    "\n",
    "Perplexity score tells us the model fitness. \n",
    "\n",
    "By running this model on different num_topics, the final perplexity score we are achieving is below"
   ]
  },
  {
   "cell_type": "code",
   "execution_count": 52,
   "id": "b7b8f701-7263-4aa9-baad-34232a5745cb",
   "metadata": {},
   "outputs": [
    {
     "name": "stdout",
     "output_type": "stream",
     "text": [
      "\n",
      "Perplexity:  -7.382756756400168\n"
     ]
    },
    {
     "name": "stderr",
     "output_type": "stream",
     "text": [
      "C:\\Users\\ADMIN\\anaconda3\\lib\\site-packages\\gensim\\topic_coherence\\direct_confirmation_measure.py:202: RuntimeWarning: invalid value encountered in true_divide\n",
      "  numerator = (co_occur_count / num_docs) + EPSILON\n",
      "C:\\Users\\ADMIN\\anaconda3\\lib\\site-packages\\gensim\\topic_coherence\\direct_confirmation_measure.py:203: RuntimeWarning: invalid value encountered in true_divide\n",
      "  denominator = (w_prime_count / num_docs) * (w_star_count / num_docs)\n",
      "C:\\Users\\ADMIN\\anaconda3\\lib\\site-packages\\gensim\\topic_coherence\\direct_confirmation_measure.py:198: RuntimeWarning: invalid value encountered in true_divide\n",
      "  co_doc_prob = co_occur_count / num_docs\n"
     ]
    },
    {
     "name": "stdout",
     "output_type": "stream",
     "text": [
      "\n",
      "Coherence Score:  nan\n"
     ]
    }
   ],
   "source": [
    "# Compute Perplexity\n",
    "print('\\nPerplexity: ', lda_model.log_perplexity(corpus))  # model fit metric. lower the better.\n",
    "# Compute Coherence Score\n",
    "coherence_model_lda = CoherenceModel(model=lda_model, texts=corpus, dictionary=id2word, coherence='c_v')\n",
    "coherence_lda = coherence_model_lda.get_coherence()\n",
    "print('\\nCoherence Score: ', coherence_lda)"
   ]
  },
  {
   "cell_type": "code",
   "execution_count": 53,
   "id": "e23760a0-8f10-4906-859b-caf62cf4626b",
   "metadata": {},
   "outputs": [],
   "source": [
    "## compute coherence score\n",
    "\n",
    "def compute_coherence_values(dictionary, corpus, texts, limit, start, step):\n",
    "    coherence_values = []\n",
    "    model_list = []\n",
    "    num_topics1 = [i for i in range(start, limit, step)]\n",
    "    for num_topics in num_topics1:\n",
    "        model = gensim.models.ldamodel.LdaModel(corpus=corpus, id2word=id2word, num_topics=num_topics, random_state=100,\n",
    "                                           update_every=1, chunksize=100, passes=10, alpha='auto', per_word_topics=True)\n",
    "        model_list.append(model)\n",
    "        coherencemodel = CoherenceModel(model=model, texts=texts, dictionary=dictionary, coherence='c_v')\n",
    "        coherence_values.append(coherencemodel.get_coherence())\n",
    "\n",
    "    return model_list, coherence_values  # note, list of 2 objs returned"
   ]
  },
  {
   "cell_type": "code",
   "execution_count": 54,
   "id": "38704c7d-46c3-4f38-a47a-c91201f36017",
   "metadata": {
    "tags": []
   },
   "outputs": [
    {
     "name": "stdout",
     "output_type": "stream",
     "text": [
      "[0.4938791140677775, 0.49010635825649956, 0.408170416682302, 0.3699671381441306, 0.3559150850221679, 0.3188194346874747, 0.33772689588430527, 0.36241495801807, 0.3641691917818108, 0.350067571520837, 0.38465402261147785, 0.4063152186567311, 0.3814536908823712, 0.39475450039527554, 0.37945677875432293, 0.36186078222910234, 0.3701247026302987, 0.40573010265191034, 0.3841950984114438, 0.358785548284819, 0.3947776640870115, 0.4232202637567461, 0.3850207523628278, 0.40868031228401686, 0.40445423559465604, 0.3987852965266135, 0.38382529809085514, 0.36378962539983967]\n"
     ]
    }
   ],
   "source": [
    "# Can take a long time to run.\n",
    "start1=2\n",
    "limit1=30\n",
    "step1=1\n",
    "\n",
    "model_list, coherence_values = compute_coherence_values(dictionary=id2word, corpus=corpus, \n",
    "                                                        texts=corpus2, start=start1, limit=limit1, step=step1)\n",
    "\n",
    "print(coherence_values)"
   ]
  },
  {
   "cell_type": "code",
   "execution_count": 55,
   "id": "9cce2ae8-40cb-4f38-9dad-dbee9ba75e2c",
   "metadata": {
    "tags": []
   },
   "outputs": [
    {
     "name": "stdout",
     "output_type": "stream",
     "text": [
      "2\n"
     ]
    }
   ],
   "source": [
    "# obtain optimal topic number\n",
    "coher = list(enumerate(coherence_values))  # create an index for each list elem\n",
    "index_max = [x for (x,y) in coher if y==max(coherence_values)]  # obtain index num corres to max coherence value\n",
    "Optimal_numTopics = int(str(index_max[0]))+2  # convert that list elem into integer (int()) via string (str())\n",
    "print(Optimal_numTopics)"
   ]
  },
  {
   "cell_type": "code",
   "execution_count": 56,
   "id": "1e17fa64-2573-491e-ae1f-3031542c1b4f",
   "metadata": {},
   "outputs": [
    {
     "data": {
      "image/png": "[encoded data removed]",
      "text/plain": [
       "<Figure size 432x288 with 1 Axes>"
      ]
     },
     "metadata": {
      "needs_background": "light"
     },
     "output_type": "display_data"
    }
   ],
   "source": [
    "## Plot the change in coherence score with num_topics\n",
    "import matplotlib.pyplot as plt\n",
    "%matplotlib inline\n",
    "\n",
    "start1=2\n",
    "limit1=30\n",
    "step1=1\n",
    "# Show graph\n",
    "x = range(start1, limit1, step1)\n",
    "plt.plot(x, coherence_values)\n",
    "plt.xlabel(\"Num Topics\")\n",
    "plt.ylabel(\"Coherence score\")\n",
    "plt.legend((\"coherence_values\"), loc='best')\n",
    "plt.axvline(x=Optimal_numTopics, color='r')\n",
    "plt.show()"
   ]
  },
  {
   "cell_type": "code",
   "execution_count": 57,
   "id": "aa176d04-d97a-4237-864b-22208b31c0da",
   "metadata": {
    "tags": []
   },
   "outputs": [
    {
     "data": {
      "text/plain": [
       "28"
      ]
     },
     "execution_count": 57,
     "metadata": {},
     "output_type": "execute_result"
    }
   ],
   "source": [
    "len(model_list)"
   ]
  },
  {
   "cell_type": "markdown",
   "id": "ec6234f2-574a-4ca0-b897-20148e3c9e09",
   "metadata": {},
   "source": [
    "#### Interpreting optimal topics\n",
    "\n",
    "We have built the LDA model with 2 different topics in which multiple keywords contribute to a certain weightage(importance) for that topic"
   ]
  },
  {
   "cell_type": "code",
   "execution_count": 58,
   "id": "05b80e8c-9474-4c0c-88f9-b6ca2c0090a6",
   "metadata": {},
   "outputs": [
    {
     "name": "stdout",
     "output_type": "stream",
     "text": [
      "[(0,\n",
      "  '0.031*\"bosch\" + 0.030*\"replac\" + 0.028*\"origin\" + 0.023*\"old\" + '\n",
      "  '0.022*\"year\" + 0.021*\"return\" + 0.021*\"new\" + 0.020*\"item\" + 0.016*\"servic\" '\n",
      "  '+ 0.016*\"manufactur\" + 0.013*\"check\" + 0.012*\"honda\" + 0.012*\"sell\" + '\n",
      "  '0.011*\"month\" + 0.011*\"road\" + 0.011*\"break\" + 0.009*\"job\" + 0.009*\"ship\" + '\n",
      "  '0.009*\"date\" + 0.009*\"expect\" + 0.008*\"scratch\" + 0.008*\"amaz\" + '\n",
      "  '0.007*\"almost\" + 0.007*\"center\" + 0.007*\"till\" + 0.007*\"seal\" + 0.007*\"may\" '\n",
      "  '+ 0.007*\"disappoint\"'),\n",
      " (1,\n",
      "  '0.049*\"blade\" + 0.039*\"fit\" + 0.034*\"well\" + 0.022*\"glass\" + '\n",
      "  '0.020*\"perfect\" + 0.019*\"water\" + 0.018*\"qualiti\" + 0.015*\"like\" + '\n",
      "  '0.013*\"also\" + 0.012*\"one\" + 0.012*\"r\" + 0.011*\"side\" + 0.010*\"size\" + '\n",
      "  '0.010*\"small\" + 0.009*\"cheap\" + 0.009*\"type\" + 0.009*\"purchas\" + '\n",
      "  '0.008*\"poor\" + 0.008*\"last\" + 0.008*\"hyundai\" + 0.008*\"low\" + 0.007*\"fine\" '\n",
      "  '+ 0.007*\"mention\" + 0.007*\"sure\" + 0.007*\"recommend\" + 0.007*\"find\" + '\n",
      "  '0.007*\"bottl\" + 0.006*\"damag\"'),\n",
      " (2,\n",
      "  '0.074*\"good\" + 0.028*\"instal\" + 0.023*\"use\" + 0.023*\"qualiti\" + 0.021*\"one\" '\n",
      "  '+ 0.017*\"easi\" + 0.016*\"money\" + 0.015*\"rubber\" + 0.015*\"make\" + '\n",
      "  '0.014*\"price\" + 0.012*\"review\" + 0.011*\"go\" + 0.011*\"month\" + '\n",
      "  '0.010*\"receiv\" + 0.010*\"clear\" + 0.010*\"look\" + 0.009*\"day\" + 0.009*\"give\" '\n",
      "  '+ 0.009*\"nice\" + 0.009*\"proper\" + 0.009*\"think\" + 0.009*\"rain\" + '\n",
      "  '0.008*\"come\" + 0.008*\"open\" + 0.008*\"bad\" + 0.008*\"wast\" + 0.008*\"packag\" + '\n",
      "  '0.008*\"see\"'),\n",
      " (3,\n",
      "  '0.053*\"use\" + 0.049*\"clean\" + 0.021*\"wipe\" + 0.013*\"nois\" + 0.012*\"much\" + '\n",
      "  '0.012*\"seller\" + 0.010*\"issu\" + 0.010*\"leav\" + 0.009*\"great\" + 0.009*\"last\" '\n",
      "  '+ 0.009*\"mark\" + 0.009*\"lock\" + 0.009*\"year\" + 0.008*\"first\" + '\n",
      "  '0.008*\"start\" + 0.008*\"drive\" + 0.008*\"usag\" + 0.008*\"inch\" + '\n",
      "  '0.008*\"durabl\" + 0.008*\"hard\" + 0.007*\"cost\" + 0.007*\"effect\" + '\n",
      "  '0.007*\"keep\" + 0.007*\"littl\" + 0.007*\"week\" + 0.007*\"perform\" + 0.006*\"le\" '\n",
      "  '+ 0.006*\"feel\"')]\n"
     ]
    }
   ],
   "source": [
    "# seems optimal num_topics is 2\n",
    "optimal_model = model_list[Optimal_numTopics]\n",
    "model_topics = optimal_model.show_topics(formatted=False)\n",
    "pprint(optimal_model.print_topics(num_words=28))"
   ]
  },
  {
   "cell_type": "markdown",
   "id": "bbed9397-a533-47e2-a9d8-c4c582fd5ba6",
   "metadata": {},
   "source": [
    "#### Step7: Exploring topics obtained from optimal model\n",
    "\n",
    "We are identifying the dominant topic and then mapping it back with the main document"
   ]
  },
  {
   "cell_type": "code",
   "execution_count": 59,
   "id": "dd91beef-def1-4ae9-9fd3-ab55be1d21fc",
   "metadata": {},
   "outputs": [
    {
     "data": {
      "text/plain": [
       "[[(0, 1, 0.6150159239768982)],\n",
       " [(1, 2, 0.5967032313346863)],\n",
       " [(2, 2, 0.5355520248413086)],\n",
       " [(3, 1, 0.5583778619766235)],\n",
       " [(4, 2, 0.690143346786499)],\n",
       " [(5, 3, 0.335114985704422)],\n",
       " [(6, 2, 0.6095709204673767)]]"
      ]
     },
     "execution_count": 59,
     "metadata": {},
     "output_type": "execute_result"
    }
   ],
   "source": [
    "# Get main topic in each document\n",
    "gamma_df = build_gamma_df(lda_model=optimal_model, corpus0=corpus0)\n",
    "#gamma_df.iloc[:8,:8]\n",
    "\n",
    "row0 = gamma_df.values.tolist()\n",
    "row=[]\n",
    "for i in range(len(row0)):\n",
    "    row1 = list(enumerate(row0[i]))\n",
    "    row1_y = [y for (x,y) in row1]\n",
    "    max_propn = sorted(row1_y, reverse=True)[0]\n",
    "    row2 = [(i, x, y) for (x, y) in row1 if y==max_propn]\n",
    "    row.append(row2)\n",
    "\n",
    "row[0:7]"
   ]
  },
  {
   "cell_type": "code",
   "execution_count": 60,
   "id": "221b8747-ff8e-4e6e-bf0e-25b57b5729d3",
   "metadata": {
    "tags": []
   },
   "outputs": [
    {
     "name": "stderr",
     "output_type": "stream",
     "text": [
      "C:\\Users\\ADMIN\\AppData\\Local\\Temp\\ipykernel_23924\\2746256479.py:6: FutureWarning: The frame.append method is deprecated and will be removed from pandas in a future version. Use pandas.concat instead.\n",
      "  sent_topics_df = sent_topics_df.append(pd.Series([int(doc_num), int(topic_num),\n",
      "C:\\Users\\ADMIN\\AppData\\Local\\Temp\\ipykernel_23924\\2746256479.py:6: FutureWarning: The frame.append method is deprecated and will be removed from pandas in a future version. Use pandas.concat instead.\n",
      "  sent_topics_df = sent_topics_df.append(pd.Series([int(doc_num), int(topic_num),\n"
     ]
    },
    {
     "data": {
      "text/html": [
       "<div>\n",
       "<style scoped>\n",
       "    .dataframe tbody tr th:only-of-type {\n",
       "        vertical-align: middle;\n",
       "    }\n",
       "\n",
       "    .dataframe tbody tr th {\n",
       "        vertical-align: top;\n",
       "    }\n",
       "\n",
       "    .dataframe thead th {\n",
       "        text-align: right;\n",
       "    }\n",
       "</style>\n",
       "<table border=\"1\" class=\"dataframe\">\n",
       "  <thead>\n",
       "    <tr style=\"text-align: right;\">\n",
       "      <th></th>\n",
       "      <th>Doc_num</th>\n",
       "      <th>Dominant_Topic</th>\n",
       "      <th>Perc_Contribution</th>\n",
       "      <th>Topic_Keywords</th>\n",
       "    </tr>\n",
       "  </thead>\n",
       "  <tbody>\n",
       "    <tr>\n",
       "      <th>0</th>\n",
       "      <td>0</td>\n",
       "      <td>1</td>\n",
       "      <td>0.6150</td>\n",
       "      <td>blade, fit, well, glass, perfect, water, quali...</td>\n",
       "    </tr>\n",
       "    <tr>\n",
       "      <th>1</th>\n",
       "      <td>1</td>\n",
       "      <td>2</td>\n",
       "      <td>0.5967</td>\n",
       "      <td>good, instal, use, qualiti, one, easi, money, ...</td>\n",
       "    </tr>\n",
       "    <tr>\n",
       "      <th>2</th>\n",
       "      <td>2</td>\n",
       "      <td>2</td>\n",
       "      <td>0.5356</td>\n",
       "      <td>good, instal, use, qualiti, one, easi, money, ...</td>\n",
       "    </tr>\n",
       "    <tr>\n",
       "      <th>3</th>\n",
       "      <td>3</td>\n",
       "      <td>1</td>\n",
       "      <td>0.5584</td>\n",
       "      <td>blade, fit, well, glass, perfect, water, quali...</td>\n",
       "    </tr>\n",
       "    <tr>\n",
       "      <th>4</th>\n",
       "      <td>4</td>\n",
       "      <td>2</td>\n",
       "      <td>0.6901</td>\n",
       "      <td>good, instal, use, qualiti, one, easi, money, ...</td>\n",
       "    </tr>\n",
       "    <tr>\n",
       "      <th>5</th>\n",
       "      <td>5</td>\n",
       "      <td>3</td>\n",
       "      <td>0.3351</td>\n",
       "      <td>use, clean, wipe, nois, much, seller, issu, le...</td>\n",
       "    </tr>\n",
       "    <tr>\n",
       "      <th>6</th>\n",
       "      <td>6</td>\n",
       "      <td>2</td>\n",
       "      <td>0.6096</td>\n",
       "      <td>good, instal, use, qualiti, one, easi, money, ...</td>\n",
       "    </tr>\n",
       "    <tr>\n",
       "      <th>7</th>\n",
       "      <td>7</td>\n",
       "      <td>1</td>\n",
       "      <td>0.3727</td>\n",
       "      <td>blade, fit, well, glass, perfect, water, quali...</td>\n",
       "    </tr>\n",
       "  </tbody>\n",
       "</table>\n",
       "</div>"
      ],
      "text/plain": [
       "   Doc_num  Dominant_Topic  Perc_Contribution  \\\n",
       "0        0               1             0.6150   \n",
       "1        1               2             0.5967   \n",
       "2        2               2             0.5356   \n",
       "3        3               1             0.5584   \n",
       "4        4               2             0.6901   \n",
       "5        5               3             0.3351   \n",
       "6        6               2             0.6096   \n",
       "7        7               1             0.3727   \n",
       "\n",
       "                                      Topic_Keywords  \n",
       "0  blade, fit, well, glass, perfect, water, quali...  \n",
       "1  good, instal, use, qualiti, one, easi, money, ...  \n",
       "2  good, instal, use, qualiti, one, easi, money, ...  \n",
       "3  blade, fit, well, glass, perfect, water, quali...  \n",
       "4  good, instal, use, qualiti, one, easi, money, ...  \n",
       "5  use, clean, wipe, nois, much, seller, issu, le...  \n",
       "6  good, instal, use, qualiti, one, easi, money, ...  \n",
       "7  blade, fit, well, glass, perfect, water, quali...  "
      ]
     },
     "execution_count": 60,
     "metadata": {},
     "output_type": "execute_result"
    }
   ],
   "source": [
    "sent_topics_df = pd.DataFrame()\n",
    "for row1 in row:\n",
    "    for (doc_num, topic_num, prop_topic) in row1:\n",
    "        wp = optimal_model.show_topic(topic_num)\n",
    "        topic_keywords = \", \".join([word for word, prop in wp])\n",
    "        sent_topics_df = sent_topics_df.append(pd.Series([int(doc_num), int(topic_num), \n",
    "                                                          round(prop_topic,4), \n",
    "                                                          topic_keywords]), \n",
    "                                                       ignore_index=True)\n",
    "    \n",
    "sent_topics_df.columns = ['Doc_num', 'Dominant_Topic', 'Perc_Contribution', 'Topic_Keywords']    \n",
    "sent_topics_df.iloc[:8, :]"
   ]
  },
  {
   "cell_type": "code",
   "execution_count": 61,
   "id": "d3fabc35-f9de-42a1-9957-57771a689a7c",
   "metadata": {},
   "outputs": [
    {
     "data": {
      "text/html": [
       "<div>\n",
       "<style scoped>\n",
       "    .dataframe tbody tr th:only-of-type {\n",
       "        vertical-align: middle;\n",
       "    }\n",
       "\n",
       "    .dataframe tbody tr th {\n",
       "        vertical-align: top;\n",
       "    }\n",
       "\n",
       "    .dataframe thead th {\n",
       "        text-align: right;\n",
       "    }\n",
       "</style>\n",
       "<table border=\"1\" class=\"dataframe\">\n",
       "  <thead>\n",
       "    <tr style=\"text-align: right;\">\n",
       "      <th></th>\n",
       "      <th>Doc_num</th>\n",
       "      <th>Dominant_Topic</th>\n",
       "      <th>Perc_Contribution</th>\n",
       "      <th>Topic_Keywords</th>\n",
       "      <th>contents</th>\n",
       "    </tr>\n",
       "  </thead>\n",
       "  <tbody>\n",
       "    <tr>\n",
       "      <th>0</th>\n",
       "      <td>0</td>\n",
       "      <td>1</td>\n",
       "      <td>0.6150</td>\n",
       "      <td>blade, fit, well, glass, perfect, water, qualiti, like, also, one</td>\n",
       "      <td>perfect beauti 2nd purchas must tri lover</td>\n",
       "    </tr>\n",
       "    <tr>\n",
       "      <th>1</th>\n",
       "      <td>1</td>\n",
       "      <td>2</td>\n",
       "      <td>0.5967</td>\n",
       "      <td>good, instal, use, qualiti, one, easi, money, rubber, make, price</td>\n",
       "      <td>let someon decal sticker pay thousand buck see magic far accur describ pictur word justic see pictur bmw f10 530d sport edit</td>\n",
       "    </tr>\n",
       "    <tr>\n",
       "      <th>2</th>\n",
       "      <td>2</td>\n",
       "      <td>2</td>\n",
       "      <td>0.5356</td>\n",
       "      <td>good, instal, use, qualiti, one, easi, money, rubber, make, price</td>\n",
       "      <td>purchas open market qualiti design look super instal make easi look total upgrad</td>\n",
       "    </tr>\n",
       "    <tr>\n",
       "      <th>3</th>\n",
       "      <td>3</td>\n",
       "      <td>1</td>\n",
       "      <td>0.5584</td>\n",
       "      <td>blade, fit, well, glass, perfect, water, qualiti, like, also, one</td>\n",
       "      <td>perfect fit nissan magnit look like near orgin design wheel pack</td>\n",
       "    </tr>\n",
       "    <tr>\n",
       "      <th>4</th>\n",
       "      <td>4</td>\n",
       "      <td>2</td>\n",
       "      <td>0.6901</td>\n",
       "      <td>good, instal, use, qualiti, one, easi, money, rubber, make, price</td>\n",
       "      <td>colour combin show photo wheel cover receiv silver colour part colour black black colour silver caus whole design wheel cover chang think happen mistak manufactur pay attent colour</td>\n",
       "    </tr>\n",
       "    <tr>\n",
       "      <th>5</th>\n",
       "      <td>5</td>\n",
       "      <td>3</td>\n",
       "      <td>0.3351</td>\n",
       "      <td>use, clean, wipe, nois, much, seller, issu, leav, great, last</td>\n",
       "      <td>excel</td>\n",
       "    </tr>\n",
       "    <tr>\n",
       "      <th>6</th>\n",
       "      <td>6</td>\n",
       "      <td>2</td>\n",
       "      <td>0.6096</td>\n",
       "      <td>good, instal, use, qualiti, one, easi, money, rubber, make, price</td>\n",
       "      <td>best qualiti productsvalu money</td>\n",
       "    </tr>\n",
       "    <tr>\n",
       "      <th>7</th>\n",
       "      <td>7</td>\n",
       "      <td>1</td>\n",
       "      <td>0.3727</td>\n",
       "      <td>blade, fit, well, glass, perfect, water, qualiti, like, also, one</td>\n",
       "      <td>qualiti perfect</td>\n",
       "    </tr>\n",
       "    <tr>\n",
       "      <th>8</th>\n",
       "      <td>8</td>\n",
       "      <td>1</td>\n",
       "      <td>0.3127</td>\n",
       "      <td>blade, fit, well, glass, perfect, water, qualiti, like, also, one</td>\n",
       "      <td>good option loo fit magnit</td>\n",
       "    </tr>\n",
       "    <tr>\n",
       "      <th>9</th>\n",
       "      <td>9</td>\n",
       "      <td>2</td>\n",
       "      <td>0.4193</td>\n",
       "      <td>good, instal, use, qualiti, one, easi, money, rubber, make, price</td>\n",
       "      <td>fit proper</td>\n",
       "    </tr>\n",
       "    <tr>\n",
       "      <th>10</th>\n",
       "      <td>10</td>\n",
       "      <td>0</td>\n",
       "      <td>0.3517</td>\n",
       "      <td>bosch, replac, origin, old, year, return, new, item, servic, manufactur</td>\n",
       "      <td>perfect fit tata vista deliveri bit delay fine meet expect qualiti okay price new look see differ old new cap design happi</td>\n",
       "    </tr>\n",
       "    <tr>\n",
       "      <th>11</th>\n",
       "      <td>11</td>\n",
       "      <td>2</td>\n",
       "      <td>0.5996</td>\n",
       "      <td>good, instal, use, qualiti, one, easi, money, rubber, make, price</td>\n",
       "      <td>worth price go</td>\n",
       "    </tr>\n",
       "    <tr>\n",
       "      <th>12</th>\n",
       "      <td>12</td>\n",
       "      <td>2</td>\n",
       "      <td>0.5114</td>\n",
       "      <td>good, instal, use, qualiti, one, easi, money, rubber, make, price</td>\n",
       "      <td>look great light bend light pressur lack finish qualiti paint</td>\n",
       "    </tr>\n",
       "    <tr>\n",
       "      <th>13</th>\n",
       "      <td>13</td>\n",
       "      <td>2</td>\n",
       "      <td>0.5375</td>\n",
       "      <td>good, instal, use, qualiti, one, easi, money, rubber, make, price</td>\n",
       "      <td>good nice sturdi fit new gen swift look diamond cut alloy wheel pic attach main part tough instal first tri take mechan fix otherwis realli good</td>\n",
       "    </tr>\n",
       "    <tr>\n",
       "      <th>14</th>\n",
       "      <td>14</td>\n",
       "      <td>2</td>\n",
       "      <td>0.7869</td>\n",
       "      <td>good, instal, use, qualiti, one, easi, money, rubber, make, price</td>\n",
       "      <td>design deliv design look similar pictur provid actual differ confirm look custom photo black colour silver like one show web descript best black rim silver rim buy silver rim design receiv look good silver rim silver rim consid look constim imag buyingth qualiti ok excel edit updat imag web descript</td>\n",
       "    </tr>\n",
       "    <tr>\n",
       "      <th>15</th>\n",
       "      <td>15</td>\n",
       "      <td>2</td>\n",
       "      <td>0.5442</td>\n",
       "      <td>good, instal, use, qualiti, one, easi, money, rubber, make, price</td>\n",
       "      <td>paint work worst silver paint spill black area vice versa also finish good see dot smudg edg silver paint think paint hurri pack paint drys hard plastic fix maruthi showroom overal look increas instal see qualiti use month</td>\n",
       "    </tr>\n",
       "    <tr>\n",
       "      <th>16</th>\n",
       "      <td>16</td>\n",
       "      <td>2</td>\n",
       "      <td>0.5083</td>\n",
       "      <td>good, instal, use, qualiti, one, easi, money, rubber, make, price</td>\n",
       "      <td>complet chang look wagon r nutmeg brown wheel cap perfect march deliveri qualiti recommend</td>\n",
       "    </tr>\n",
       "    <tr>\n",
       "      <th>17</th>\n",
       "      <td>17</td>\n",
       "      <td>2</td>\n",
       "      <td>0.6018</td>\n",
       "      <td>good, instal, use, qualiti, one, easi, money, rubber, make, price</td>\n",
       "      <td>awesom guy instal swift new sporty look colleagu like</td>\n",
       "    </tr>\n",
       "    <tr>\n",
       "      <th>18</th>\n",
       "      <td>18</td>\n",
       "      <td>2</td>\n",
       "      <td>0.4631</td>\n",
       "      <td>good, instal, use, qualiti, one, easi, money, rubber, make, price</td>\n",
       "      <td>paint come wheel cup weak buy 900rs local market think good qualiti also like 900rs worth wheelcup</td>\n",
       "    </tr>\n",
       "    <tr>\n",
       "      <th>19</th>\n",
       "      <td>19</td>\n",
       "      <td>2</td>\n",
       "      <td>0.4288</td>\n",
       "      <td>good, instal, use, qualiti, one, easi, money, rubber, make, price</td>\n",
       "      <td>trueli valu money durabl sturdi hard fit begin obvious hard fit fall drive hit pothol best way instal take help someon els one hold wheel cap push inward talk look look fab look distanc like review say look like alloy wheel stand pretti close con small imperfect paint notic observ close special knit picker paint qualiti cut pressur valv bit broad big problem requir attent overal conclud pay price best avail market</td>\n",
       "    </tr>\n",
       "    <tr>\n",
       "      <th>20</th>\n",
       "      <td>20</td>\n",
       "      <td>2</td>\n",
       "      <td>0.6022</td>\n",
       "      <td>good, instal, use, qualiti, one, easi, money, rubber, make, price</td>\n",
       "      <td>instal damn tough glue emblem appropri buy areldit instal</td>\n",
       "    </tr>\n",
       "    <tr>\n",
       "      <th>21</th>\n",
       "      <td>21</td>\n",
       "      <td>1</td>\n",
       "      <td>0.5748</td>\n",
       "      <td>blade, fit, well, glass, perfect, water, qualiti, like, also, one</td>\n",
       "      <td>adhes cheap qualiti stick well</td>\n",
       "    </tr>\n",
       "    <tr>\n",
       "      <th>22</th>\n",
       "      <td>22</td>\n",
       "      <td>2</td>\n",
       "      <td>0.3854</td>\n",
       "      <td>good, instal, use, qualiti, one, easi, money, rubber, make, price</td>\n",
       "      <td>qualiti chip</td>\n",
       "    </tr>\n",
       "    <tr>\n",
       "      <th>23</th>\n",
       "      <td>23</td>\n",
       "      <td>2</td>\n",
       "      <td>0.3941</td>\n",
       "      <td>good, instal, use, qualiti, one, easi, money, rubber, make, price</td>\n",
       "      <td></td>\n",
       "    </tr>\n",
       "    <tr>\n",
       "      <th>24</th>\n",
       "      <td>24</td>\n",
       "      <td>2</td>\n",
       "      <td>0.6713</td>\n",
       "      <td>good, instal, use, qualiti, one, easi, money, rubber, make, price</td>\n",
       "      <td>bad color lose first wash wheel disc turn black red white bad</td>\n",
       "    </tr>\n",
       "    <tr>\n",
       "      <th>25</th>\n",
       "      <td>25</td>\n",
       "      <td>2</td>\n",
       "      <td>0.3941</td>\n",
       "      <td>good, instal, use, qualiti, one, easi, money, rubber, make, price</td>\n",
       "      <td></td>\n",
       "    </tr>\n",
       "    <tr>\n",
       "      <th>26</th>\n",
       "      <td>26</td>\n",
       "      <td>1</td>\n",
       "      <td>0.3715</td>\n",
       "      <td>blade, fit, well, glass, perfect, water, qualiti, like, also, one</td>\n",
       "      <td>nan</td>\n",
       "    </tr>\n",
       "    <tr>\n",
       "      <th>27</th>\n",
       "      <td>27</td>\n",
       "      <td>1</td>\n",
       "      <td>0.7208</td>\n",
       "      <td>blade, fit, well, glass, perfect, water, qualiti, like, also, one</td>\n",
       "      <td>paint qualiti poor worth also mrp mention box r inclus gst take r discount r fool</td>\n",
       "    </tr>\n",
       "    <tr>\n",
       "      <th>28</th>\n",
       "      <td>28</td>\n",
       "      <td>2</td>\n",
       "      <td>0.7261</td>\n",
       "      <td>good, instal, use, qualiti, one, easi, money, rubber, make, price</td>\n",
       "      <td>good qualiti product look realli nice hope product brand</td>\n",
       "    </tr>\n",
       "    <tr>\n",
       "      <th>29</th>\n",
       "      <td>29</td>\n",
       "      <td>2</td>\n",
       "      <td>0.3909</td>\n",
       "      <td>good, instal, use, qualiti, one, easi, money, rubber, make, price</td>\n",
       "      <td>packag arriv howev first lack finish second fit proper wheel cover cover entir wheel rim plea purchas</td>\n",
       "    </tr>\n",
       "    <tr>\n",
       "      <th>30</th>\n",
       "      <td>30</td>\n",
       "      <td>2</td>\n",
       "      <td>0.4828</td>\n",
       "      <td>good, instal, use, qualiti, one, easi, money, rubber, make, price</td>\n",
       "      <td>good set price pay howev color slight darker show display bad price keep</td>\n",
       "    </tr>\n",
       "    <tr>\n",
       "      <th>31</th>\n",
       "      <td>31</td>\n",
       "      <td>2</td>\n",
       "      <td>0.8167</td>\n",
       "      <td>good, instal, use, qualiti, one, easi, money, rubber, make, price</td>\n",
       "      <td>awesom easi instal stun look chang whole look vehicl small tip instal watch video instal idea metal ring place perfect smooth instal</td>\n",
       "    </tr>\n",
       "    <tr>\n",
       "      <th>32</th>\n",
       "      <td>32</td>\n",
       "      <td>1</td>\n",
       "      <td>0.5580</td>\n",
       "      <td>blade, fit, well, glass, perfect, water, qualiti, like, also, one</td>\n",
       "      <td>small suitabl tuv300 size send wheel cap</td>\n",
       "    </tr>\n",
       "    <tr>\n",
       "      <th>33</th>\n",
       "      <td>33</td>\n",
       "      <td>0</td>\n",
       "      <td>0.3556</td>\n",
       "      <td>bosch, replac, origin, old, year, return, new, item, servic, manufactur</td>\n",
       "      <td>bad fit item return replac</td>\n",
       "    </tr>\n",
       "    <tr>\n",
       "      <th>34</th>\n",
       "      <td>34</td>\n",
       "      <td>2</td>\n",
       "      <td>0.3941</td>\n",
       "      <td>good, instal, use, qualiti, one, easi, money, rubber, make, price</td>\n",
       "      <td>i20</td>\n",
       "    </tr>\n",
       "    <tr>\n",
       "      <th>35</th>\n",
       "      <td>35</td>\n",
       "      <td>2</td>\n",
       "      <td>0.6056</td>\n",
       "      <td>good, instal, use, qualiti, one, easi, money, rubber, make, price</td>\n",
       "      <td>attract fade colour</td>\n",
       "    </tr>\n",
       "    <tr>\n",
       "      <th>36</th>\n",
       "      <td>36</td>\n",
       "      <td>2</td>\n",
       "      <td>0.6821</td>\n",
       "      <td>good, instal, use, qualiti, one, easi, money, rubber, make, price</td>\n",
       "      <td>look good wheel appear pictur</td>\n",
       "    </tr>\n",
       "    <tr>\n",
       "      <th>37</th>\n",
       "      <td>37</td>\n",
       "      <td>2</td>\n",
       "      <td>0.4373</td>\n",
       "      <td>good, instal, use, qualiti, one, easi, money, rubber, make, price</td>\n",
       "      <td>hard shell worth price</td>\n",
       "    </tr>\n",
       "    <tr>\n",
       "      <th>38</th>\n",
       "      <td>38</td>\n",
       "      <td>2</td>\n",
       "      <td>0.4052</td>\n",
       "      <td>good, instal, use, qualiti, one, easi, money, rubber, make, price</td>\n",
       "      <td>super qualiti happi thank</td>\n",
       "    </tr>\n",
       "    <tr>\n",
       "      <th>39</th>\n",
       "      <td>39</td>\n",
       "      <td>2</td>\n",
       "      <td>0.5198</td>\n",
       "      <td>good, instal, use, qualiti, one, easi, money, rubber, make, price</td>\n",
       "      <td>qualiti plastic good good hyundai i10</td>\n",
       "    </tr>\n",
       "    <tr>\n",
       "      <th>40</th>\n",
       "      <td>40</td>\n",
       "      <td>0</td>\n",
       "      <td>0.4638</td>\n",
       "      <td>bosch, replac, origin, old, year, return, new, item, servic, manufactur</td>\n",
       "      <td>ek ke bahter viklap</td>\n",
       "    </tr>\n",
       "    <tr>\n",
       "      <th>41</th>\n",
       "      <td>41</td>\n",
       "      <td>1</td>\n",
       "      <td>0.6354</td>\n",
       "      <td>blade, fit, well, glass, perfect, water, qualiti, like, also, one</td>\n",
       "      <td>well fit aulto model imag refer</td>\n",
       "    </tr>\n",
       "    <tr>\n",
       "      <th>42</th>\n",
       "      <td>42</td>\n",
       "      <td>2</td>\n",
       "      <td>0.6168</td>\n",
       "      <td>good, instal, use, qualiti, one, easi, money, rubber, make, price</td>\n",
       "      <td>beauti look show pic good qualiti tight fit wheel</td>\n",
       "    </tr>\n",
       "    <tr>\n",
       "      <th>43</th>\n",
       "      <td>43</td>\n",
       "      <td>2</td>\n",
       "      <td>0.5326</td>\n",
       "      <td>good, instal, use, qualiti, one, easi, money, rubber, make, price</td>\n",
       "      <td>upto mark silver color insid black color paint attach pictur spot differ worth show brought lose reput</td>\n",
       "    </tr>\n",
       "    <tr>\n",
       "      <th>44</th>\n",
       "      <td>44</td>\n",
       "      <td>1</td>\n",
       "      <td>0.3969</td>\n",
       "      <td>blade, fit, well, glass, perfect, water, qualiti, like, also, one</td>\n",
       "      <td>qualiti mark like premium</td>\n",
       "    </tr>\n",
       "    <tr>\n",
       "      <th>45</th>\n",
       "      <td>45</td>\n",
       "      <td>1</td>\n",
       "      <td>0.4630</td>\n",
       "      <td>blade, fit, well, glass, perfect, water, qualiti, like, also, one</td>\n",
       "      <td>great design poor finish</td>\n",
       "    </tr>\n",
       "    <tr>\n",
       "      <th>46</th>\n",
       "      <td>46</td>\n",
       "      <td>2</td>\n",
       "      <td>0.5257</td>\n",
       "      <td>good, instal, use, qualiti, one, easi, money, rubber, make, price</td>\n",
       "      <td>bad qualiti 3rd</td>\n",
       "    </tr>\n",
       "    <tr>\n",
       "      <th>47</th>\n",
       "      <td>47</td>\n",
       "      <td>2</td>\n",
       "      <td>0.4444</td>\n",
       "      <td>good, instal, use, qualiti, one, easi, money, rubber, make, price</td>\n",
       "      <td>black low like silver</td>\n",
       "    </tr>\n",
       "    <tr>\n",
       "      <th>48</th>\n",
       "      <td>48</td>\n",
       "      <td>2</td>\n",
       "      <td>0.4225</td>\n",
       "      <td>good, instal, use, qualiti, one, easi, money, rubber, make, price</td>\n",
       "      <td>difficult instal</td>\n",
       "    </tr>\n",
       "    <tr>\n",
       "      <th>49</th>\n",
       "      <td>49</td>\n",
       "      <td>1</td>\n",
       "      <td>0.4049</td>\n",
       "      <td>blade, fit, well, glass, perfect, water, qualiti, like, also, one</td>\n",
       "      <td>averag qualiti look gud</td>\n",
       "    </tr>\n",
       "  </tbody>\n",
       "</table>\n",
       "</div>"
      ],
      "text/plain": [
       "    Doc_num  Dominant_Topic  Perc_Contribution  \\\n",
       "0         0               1             0.6150   \n",
       "1         1               2             0.5967   \n",
       "2         2               2             0.5356   \n",
       "3         3               1             0.5584   \n",
       "4         4               2             0.6901   \n",
       "5         5               3             0.3351   \n",
       "6         6               2             0.6096   \n",
       "7         7               1             0.3727   \n",
       "8         8               1             0.3127   \n",
       "9         9               2             0.4193   \n",
       "10       10               0             0.3517   \n",
       "11       11               2             0.5996   \n",
       "12       12               2             0.5114   \n",
       "13       13               2             0.5375   \n",
       "14       14               2             0.7869   \n",
       "15       15               2             0.5442   \n",
       "16       16               2             0.5083   \n",
       "17       17               2             0.6018   \n",
       "18       18               2             0.4631   \n",
       "19       19               2             0.4288   \n",
       "20       20               2             0.6022   \n",
       "21       21               1             0.5748   \n",
       "22       22               2             0.3854   \n",
       "23       23               2             0.3941   \n",
       "24       24               2             0.6713   \n",
       "25       25               2             0.3941   \n",
       "26       26               1             0.3715   \n",
       "27       27               1             0.7208   \n",
       "28       28               2             0.7261   \n",
       "29       29               2             0.3909   \n",
       "30       30               2             0.4828   \n",
       "31       31               2             0.8167   \n",
       "32       32               1             0.5580   \n",
       "33       33               0             0.3556   \n",
       "34       34               2             0.3941   \n",
       "35       35               2             0.6056   \n",
       "36       36               2             0.6821   \n",
       "37       37               2             0.4373   \n",
       "38       38               2             0.4052   \n",
       "39       39               2             0.5198   \n",
       "40       40               0             0.4638   \n",
       "41       41               1             0.6354   \n",
       "42       42               2             0.6168   \n",
       "43       43               2             0.5326   \n",
       "44       44               1             0.3969   \n",
       "45       45               1             0.4630   \n",
       "46       46               2             0.5257   \n",
       "47       47               2             0.4444   \n",
       "48       48               2             0.4225   \n",
       "49       49               1             0.4049   \n",
       "\n",
       "                                                             Topic_Keywords  \\\n",
       "0         blade, fit, well, glass, perfect, water, qualiti, like, also, one   \n",
       "1         good, instal, use, qualiti, one, easi, money, rubber, make, price   \n",
       "2         good, instal, use, qualiti, one, easi, money, rubber, make, price   \n",
       "3         blade, fit, well, glass, perfect, water, qualiti, like, also, one   \n",
       "4         good, instal, use, qualiti, one, easi, money, rubber, make, price   \n",
       "5             use, clean, wipe, nois, much, seller, issu, leav, great, last   \n",
       "6         good, instal, use, qualiti, one, easi, money, rubber, make, price   \n",
       "7         blade, fit, well, glass, perfect, water, qualiti, like, also, one   \n",
       "8         blade, fit, well, glass, perfect, water, qualiti, like, also, one   \n",
       "9         good, instal, use, qualiti, one, easi, money, rubber, make, price   \n",
       "10  bosch, replac, origin, old, year, return, new, item, servic, manufactur   \n",
       "11        good, instal, use, qualiti, one, easi, money, rubber, make, price   \n",
       "12        good, instal, use, qualiti, one, easi, money, rubber, make, price   \n",
       "13        good, instal, use, qualiti, one, easi, money, rubber, make, price   \n",
       "14        good, instal, use, qualiti, one, easi, money, rubber, make, price   \n",
       "15        good, instal, use, qualiti, one, easi, money, rubber, make, price   \n",
       "16        good, instal, use, qualiti, one, easi, money, rubber, make, price   \n",
       "17        good, instal, use, qualiti, one, easi, money, rubber, make, price   \n",
       "18        good, instal, use, qualiti, one, easi, money, rubber, make, price   \n",
       "19        good, instal, use, qualiti, one, easi, money, rubber, make, price   \n",
       "20        good, instal, use, qualiti, one, easi, money, rubber, make, price   \n",
       "21        blade, fit, well, glass, perfect, water, qualiti, like, also, one   \n",
       "22        good, instal, use, qualiti, one, easi, money, rubber, make, price   \n",
       "23        good, instal, use, qualiti, one, easi, money, rubber, make, price   \n",
       "24        good, instal, use, qualiti, one, easi, money, rubber, make, price   \n",
       "25        good, instal, use, qualiti, one, easi, money, rubber, make, price   \n",
       "26        blade, fit, well, glass, perfect, water, qualiti, like, also, one   \n",
       "27        blade, fit, well, glass, perfect, water, qualiti, like, also, one   \n",
       "28        good, instal, use, qualiti, one, easi, money, rubber, make, price   \n",
       "29        good, instal, use, qualiti, one, easi, money, rubber, make, price   \n",
       "30        good, instal, use, qualiti, one, easi, money, rubber, make, price   \n",
       "31        good, instal, use, qualiti, one, easi, money, rubber, make, price   \n",
       "32        blade, fit, well, glass, perfect, water, qualiti, like, also, one   \n",
       "33  bosch, replac, origin, old, year, return, new, item, servic, manufactur   \n",
       "34        good, instal, use, qualiti, one, easi, money, rubber, make, price   \n",
       "35        good, instal, use, qualiti, one, easi, money, rubber, make, price   \n",
       "36        good, instal, use, qualiti, one, easi, money, rubber, make, price   \n",
       "37        good, instal, use, qualiti, one, easi, money, rubber, make, price   \n",
       "38        good, instal, use, qualiti, one, easi, money, rubber, make, price   \n",
       "39        good, instal, use, qualiti, one, easi, money, rubber, make, price   \n",
       "40  bosch, replac, origin, old, year, return, new, item, servic, manufactur   \n",
       "41        blade, fit, well, glass, perfect, water, qualiti, like, also, one   \n",
       "42        good, instal, use, qualiti, one, easi, money, rubber, make, price   \n",
       "43        good, instal, use, qualiti, one, easi, money, rubber, make, price   \n",
       "44        blade, fit, well, glass, perfect, water, qualiti, like, also, one   \n",
       "45        blade, fit, well, glass, perfect, water, qualiti, like, also, one   \n",
       "46        good, instal, use, qualiti, one, easi, money, rubber, make, price   \n",
       "47        good, instal, use, qualiti, one, easi, money, rubber, make, price   \n",
       "48        good, instal, use, qualiti, one, easi, money, rubber, make, price   \n",
       "49        blade, fit, well, glass, perfect, water, qualiti, like, also, one   \n",
       "\n",
       "                                                                                                                                                                                                                                                                                                                                                                                                                               contents  \n",
       "0                                                                                                                                                                                                                                                                                                                                                                                             perfect beauti 2nd purchas must tri lover  \n",
       "1                                                                                                                                                                                                                                                                                                          let someon decal sticker pay thousand buck see magic far accur describ pictur word justic see pictur bmw f10 530d sport edit  \n",
       "2                                                                                                                                                                                                                                                                                                                                                      purchas open market qualiti design look super instal make easi look total upgrad  \n",
       "3                                                                                                                                                                                                                                                                                                                                                                      perfect fit nissan magnit look like near orgin design wheel pack  \n",
       "4                                                                                                                                                                                                                                                  colour combin show photo wheel cover receiv silver colour part colour black black colour silver caus whole design wheel cover chang think happen mistak manufactur pay attent colour  \n",
       "5                                                                                                                                                                                                                                                                                                                                                                                                                                 excel  \n",
       "6                                                                                                                                                                                                                                                                                                                                                                                                       best qualiti productsvalu money  \n",
       "7                                                                                                                                                                                                                                                                                                                                                                                                                       qualiti perfect  \n",
       "8                                                                                                                                                                                                                                                                                                                                                                                                            good option loo fit magnit  \n",
       "9                                                                                                                                                                                                                                                                                                                                                                                                                            fit proper  \n",
       "10                                                                                                                                                                                                                                                                                                           perfect fit tata vista deliveri bit delay fine meet expect qualiti okay price new look see differ old new cap design happi  \n",
       "11                                                                                                                                                                                                                                                                                                                                                                                                                       worth price go  \n",
       "12                                                                                                                                                                                                                                                                                                                                                                        look great light bend light pressur lack finish qualiti paint  \n",
       "13                                                                                                                                                                                                                                                                                     good nice sturdi fit new gen swift look diamond cut alloy wheel pic attach main part tough instal first tri take mechan fix otherwis realli good  \n",
       "14                                                                                                                         design deliv design look similar pictur provid actual differ confirm look custom photo black colour silver like one show web descript best black rim silver rim buy silver rim design receiv look good silver rim silver rim consid look constim imag buyingth qualiti ok excel edit updat imag web descript  \n",
       "15                                                                                                                                                                                                       paint work worst silver paint spill black area vice versa also finish good see dot smudg edg silver paint think paint hurri pack paint drys hard plastic fix maruthi showroom overal look increas instal see qualiti use month  \n",
       "16                                                                                                                                                                                                                                                                                                                                           complet chang look wagon r nutmeg brown wheel cap perfect march deliveri qualiti recommend  \n",
       "17                                                                                                                                                                                                                                                                                                                                                                                awesom guy instal swift new sporty look colleagu like  \n",
       "18                                                                                                                                                                                                                                                                                                                                   paint come wheel cup weak buy 900rs local market think good qualiti also like 900rs worth wheelcup  \n",
       "19    trueli valu money durabl sturdi hard fit begin obvious hard fit fall drive hit pothol best way instal take help someon els one hold wheel cap push inward talk look look fab look distanc like review say look like alloy wheel stand pretti close con small imperfect paint notic observ close special knit picker paint qualiti cut pressur valv bit broad big problem requir attent overal conclud pay price best avail market  \n",
       "20                                                                                                                                                                                                                                                                                                                                                                            instal damn tough glue emblem appropri buy areldit instal  \n",
       "21                                                                                                                                                                                                                                                                                                                                                                                                       adhes cheap qualiti stick well  \n",
       "22                                                                                                                                                                                                                                                                                                                                                                                                                         qualiti chip  \n",
       "23                                                                                                                                                                                                                                                                                                                                                                                                                                       \n",
       "24                                                                                                                                                                                                                                                                                                                                                                        bad color lose first wash wheel disc turn black red white bad  \n",
       "25                                                                                                                                                                                                                                                                                                                                                                                                                                       \n",
       "26                                                                                                                                                                                                                                                                                                                                                                                                                                  nan  \n",
       "27                                                                                                                                                                                                                                                                                                                                                    paint qualiti poor worth also mrp mention box r inclus gst take r discount r fool  \n",
       "28                                                                                                                                                                                                                                                                                                                                                                             good qualiti product look realli nice hope product brand  \n",
       "29                                                                                                                                                                                                                                                                                                                                packag arriv howev first lack finish second fit proper wheel cover cover entir wheel rim plea purchas  \n",
       "30                                                                                                                                                                                                                                                                                                                                                             good set price pay howev color slight darker show display bad price keep  \n",
       "31                                                                                                                                                                                                                                                                                                 awesom easi instal stun look chang whole look vehicl small tip instal watch video instal idea metal ring place perfect smooth instal  \n",
       "32                                                                                                                                                                                                                                                                                                                                                                                             small suitabl tuv300 size send wheel cap  \n",
       "33                                                                                                                                                                                                                                                                                                                                                                                                           bad fit item return replac  \n",
       "34                                                                                                                                                                                                                                                                                                                                                                                                                                  i20  \n",
       "35                                                                                                                                                                                                                                                                                                                                                                                                                  attract fade colour  \n",
       "36                                                                                                                                                                                                                                                                                                                                                                                                        look good wheel appear pictur  \n",
       "37                                                                                                                                                                                                                                                                                                                                                                                                               hard shell worth price  \n",
       "38                                                                                                                                                                                                                                                                                                                                                                                                            super qualiti happi thank  \n",
       "39                                                                                                                                                                                                                                                                                                                                                                                                qualiti plastic good good hyundai i10  \n",
       "40                                                                                                                                                                                                                                                                                                                                                                                                                  ek ke bahter viklap  \n",
       "41                                                                                                                                                                                                                                                                                                                                                                                                      well fit aulto model imag refer  \n",
       "42                                                                                                                                                                                                                                                                                                                                                                                    beauti look show pic good qualiti tight fit wheel  \n",
       "43                                                                                                                                                                                                                                                                                                                               upto mark silver color insid black color paint attach pictur spot differ worth show brought lose reput  \n",
       "44                                                                                                                                                                                                                                                                                                                                                                                                            qualiti mark like premium  \n",
       "45                                                                                                                                                                                                                                                                                                                                                                                                             great design poor finish  \n",
       "46                                                                                                                                                                                                                                                                                                                                                                                                                      bad qualiti 3rd  \n",
       "47                                                                                                                                                                                                                                                                                                                                                                                                                black low like silver  \n",
       "48                                                                                                                                                                                                                                                                                                                                                                                                                     difficult instal  \n",
       "49                                                                                                                                                                                                                                                                                                                                                                                                              averag qualiti look gud  "
      ]
     },
     "execution_count": 61,
     "metadata": {},
     "output_type": "execute_result"
    }
   ],
   "source": [
    "# Add original text to the end of the output\n",
    "contents = pd.Series(corpus0)\n",
    "sent_topics_df = pd.concat([sent_topics_df, contents], axis=1)\n",
    "#return(sent_topics_df)\n",
    "sent_topics_df.columns = ['Doc_num', 'Dominant_Topic', 'Perc_Contribution', 'Topic_Keywords', 'contents']\n",
    "pd.set_option('display.max_colwidth',500)\n",
    "sent_topics_df.iloc[:50,:]"
   ]
  },
  {
   "cell_type": "code",
   "execution_count": 62,
   "id": "06132a93-e30e-4f90-8760-98badc1df27b",
   "metadata": {},
   "outputs": [
    {
     "data": {
      "text/plain": [
       "2    1435\n",
       "1     471\n",
       "3     400\n",
       "0     191\n",
       "Name: Dominant_Topic, dtype: int64"
      ]
     },
     "execution_count": 62,
     "metadata": {},
     "output_type": "execute_result"
    }
   ],
   "source": [
    "test = sent_topics_df['Dominant_Topic'].value_counts()\n",
    "test"
   ]
  },
  {
   "cell_type": "markdown",
   "id": "165dfce4-0eec-4f2a-9164-b4aaaf96c6b0",
   "metadata": {},
   "source": [
    "#### Conclusion of Gensim Topic Model\n",
    "\n",
    "We have identified 2 dominant topics with following interpretation\n",
    "\n",
    "#### Topic Descriptors sorted by size or count of reviews\n",
    "- 0 product,good,quality,use,buy (related positivity of product)\n",
    "- 3 tyre (related tyre product)\n",
    "- 2 wiper (related wiper postivity of product)\n",
    "- 1 windshield (related windshield product)"
   ]
  },
  {
   "cell_type": "code",
   "execution_count": 68,
   "id": "cfd3bf86-8b4b-48cf-a165-203c46669338",
   "metadata": {},
   "outputs": [
    {
     "data": {
      "text/html": [
       "<div>\n",
       "<style scoped>\n",
       "    .dataframe tbody tr th:only-of-type {\n",
       "        vertical-align: middle;\n",
       "    }\n",
       "\n",
       "    .dataframe tbody tr th {\n",
       "        vertical-align: top;\n",
       "    }\n",
       "\n",
       "    .dataframe thead th {\n",
       "        text-align: right;\n",
       "    }\n",
       "</style>\n",
       "<table border=\"1\" class=\"dataframe\">\n",
       "  <thead>\n",
       "    <tr style=\"text-align: right;\">\n",
       "      <th></th>\n",
       "      <th>bad</th>\n",
       "      <th>best</th>\n",
       "      <th>blade</th>\n",
       "      <th>bosch</th>\n",
       "      <th>brand</th>\n",
       "      <th>bright</th>\n",
       "      <th>buy</th>\n",
       "      <th>chang</th>\n",
       "      <th>cheap</th>\n",
       "      <th>check</th>\n",
       "      <th>...</th>\n",
       "      <th>tyre</th>\n",
       "      <th>use</th>\n",
       "      <th>valu</th>\n",
       "      <th>wast</th>\n",
       "      <th>water</th>\n",
       "      <th>wipe</th>\n",
       "      <th>wiper</th>\n",
       "      <th>work</th>\n",
       "      <th>worth</th>\n",
       "      <th>year</th>\n",
       "    </tr>\n",
       "  </thead>\n",
       "  <tbody>\n",
       "    <tr>\n",
       "      <th>0</th>\n",
       "      <td>0.0</td>\n",
       "      <td>0.0</td>\n",
       "      <td>0.0</td>\n",
       "      <td>0.0</td>\n",
       "      <td>0.0</td>\n",
       "      <td>0.0</td>\n",
       "      <td>0.0</td>\n",
       "      <td>0.000000</td>\n",
       "      <td>0.0</td>\n",
       "      <td>0.0</td>\n",
       "      <td>...</td>\n",
       "      <td>0.0</td>\n",
       "      <td>0.0</td>\n",
       "      <td>0.0</td>\n",
       "      <td>0.0</td>\n",
       "      <td>0.0</td>\n",
       "      <td>0.0</td>\n",
       "      <td>0.0</td>\n",
       "      <td>0.0</td>\n",
       "      <td>0.0</td>\n",
       "      <td>0.0</td>\n",
       "    </tr>\n",
       "    <tr>\n",
       "      <th>1</th>\n",
       "      <td>0.0</td>\n",
       "      <td>0.0</td>\n",
       "      <td>0.0</td>\n",
       "      <td>0.0</td>\n",
       "      <td>0.0</td>\n",
       "      <td>0.0</td>\n",
       "      <td>0.0</td>\n",
       "      <td>0.000000</td>\n",
       "      <td>0.0</td>\n",
       "      <td>0.0</td>\n",
       "      <td>...</td>\n",
       "      <td>0.0</td>\n",
       "      <td>0.0</td>\n",
       "      <td>0.0</td>\n",
       "      <td>0.0</td>\n",
       "      <td>0.0</td>\n",
       "      <td>0.0</td>\n",
       "      <td>0.0</td>\n",
       "      <td>0.0</td>\n",
       "      <td>0.0</td>\n",
       "      <td>0.0</td>\n",
       "    </tr>\n",
       "    <tr>\n",
       "      <th>2</th>\n",
       "      <td>0.0</td>\n",
       "      <td>0.0</td>\n",
       "      <td>0.0</td>\n",
       "      <td>0.0</td>\n",
       "      <td>0.0</td>\n",
       "      <td>0.0</td>\n",
       "      <td>0.0</td>\n",
       "      <td>0.000000</td>\n",
       "      <td>0.0</td>\n",
       "      <td>0.0</td>\n",
       "      <td>...</td>\n",
       "      <td>0.0</td>\n",
       "      <td>0.0</td>\n",
       "      <td>0.0</td>\n",
       "      <td>0.0</td>\n",
       "      <td>0.0</td>\n",
       "      <td>0.0</td>\n",
       "      <td>0.0</td>\n",
       "      <td>0.0</td>\n",
       "      <td>0.0</td>\n",
       "      <td>0.0</td>\n",
       "    </tr>\n",
       "    <tr>\n",
       "      <th>3</th>\n",
       "      <td>0.0</td>\n",
       "      <td>0.0</td>\n",
       "      <td>0.0</td>\n",
       "      <td>0.0</td>\n",
       "      <td>0.0</td>\n",
       "      <td>0.0</td>\n",
       "      <td>0.0</td>\n",
       "      <td>0.000000</td>\n",
       "      <td>0.0</td>\n",
       "      <td>0.0</td>\n",
       "      <td>...</td>\n",
       "      <td>0.0</td>\n",
       "      <td>0.0</td>\n",
       "      <td>0.0</td>\n",
       "      <td>0.0</td>\n",
       "      <td>0.0</td>\n",
       "      <td>0.0</td>\n",
       "      <td>0.0</td>\n",
       "      <td>0.0</td>\n",
       "      <td>0.0</td>\n",
       "      <td>0.0</td>\n",
       "    </tr>\n",
       "    <tr>\n",
       "      <th>4</th>\n",
       "      <td>0.0</td>\n",
       "      <td>0.0</td>\n",
       "      <td>0.0</td>\n",
       "      <td>0.0</td>\n",
       "      <td>0.0</td>\n",
       "      <td>0.0</td>\n",
       "      <td>0.0</td>\n",
       "      <td>0.367424</td>\n",
       "      <td>0.0</td>\n",
       "      <td>0.0</td>\n",
       "      <td>...</td>\n",
       "      <td>0.0</td>\n",
       "      <td>0.0</td>\n",
       "      <td>0.0</td>\n",
       "      <td>0.0</td>\n",
       "      <td>0.0</td>\n",
       "      <td>0.0</td>\n",
       "      <td>0.0</td>\n",
       "      <td>0.0</td>\n",
       "      <td>0.0</td>\n",
       "      <td>0.0</td>\n",
       "    </tr>\n",
       "  </tbody>\n",
       "</table>\n",
       "<p>5 rows × 106 columns</p>\n",
       "</div>"
      ],
      "text/plain": [
       "   bad  best  blade  bosch  brand  bright  buy     chang  cheap  check  ...  \\\n",
       "0  0.0   0.0    0.0    0.0    0.0     0.0  0.0  0.000000    0.0    0.0  ...   \n",
       "1  0.0   0.0    0.0    0.0    0.0     0.0  0.0  0.000000    0.0    0.0  ...   \n",
       "2  0.0   0.0    0.0    0.0    0.0     0.0  0.0  0.000000    0.0    0.0  ...   \n",
       "3  0.0   0.0    0.0    0.0    0.0     0.0  0.0  0.000000    0.0    0.0  ...   \n",
       "4  0.0   0.0    0.0    0.0    0.0     0.0  0.0  0.367424    0.0    0.0  ...   \n",
       "\n",
       "   tyre  use  valu  wast  water  wipe  wiper  work  worth  year  \n",
       "0   0.0  0.0   0.0   0.0    0.0   0.0    0.0   0.0    0.0   0.0  \n",
       "1   0.0  0.0   0.0   0.0    0.0   0.0    0.0   0.0    0.0   0.0  \n",
       "2   0.0  0.0   0.0   0.0    0.0   0.0    0.0   0.0    0.0   0.0  \n",
       "3   0.0  0.0   0.0   0.0    0.0   0.0    0.0   0.0    0.0   0.0  \n",
       "4   0.0  0.0   0.0   0.0    0.0   0.0    0.0   0.0    0.0   0.0  \n",
       "\n",
       "[5 rows x 106 columns]"
      ]
     },
     "execution_count": 68,
     "metadata": {},
     "output_type": "execute_result"
    }
   ],
   "source": [
    "dtm_idf.head()"
   ]
  },
  {
   "cell_type": "code",
   "execution_count": 69,
   "id": "03671e64-81fa-43e2-9ed9-d37a632c0df8",
   "metadata": {},
   "outputs": [
    {
     "data": {
      "text/plain": [
       "0       1\n",
       "1       2\n",
       "2       2\n",
       "3       1\n",
       "4       2\n",
       "       ..\n",
       "2492    2\n",
       "2493    1\n",
       "2494    2\n",
       "2495    1\n",
       "2496    1\n",
       "Name: Dominant_Topic, Length: 2497, dtype: int32"
      ]
     },
     "execution_count": 69,
     "metadata": {},
     "output_type": "execute_result"
    }
   ],
   "source": [
    "data_subset.iloc[:,-2]"
   ]
  },
  {
   "cell_type": "markdown",
   "id": "fa60a063-b6b4-4c02-aa70-ee7c05d8b305",
   "metadata": {},
   "source": [
    "#### Step 3: Training the model\n",
    "\n",
    "Firstly, we need to split the data into test and train"
   ]
  },
  {
   "cell_type": "code",
   "execution_count": 70,
   "id": "361da962-6776-4dfd-a5a3-1e7aa4dd1ffa",
   "metadata": {
    "tags": []
   },
   "outputs": [],
   "source": [
    "#Training the model\n",
    "X_train, X_test, y_train, y_test = train_test_split(dtm,data_subset.iloc[:,-2])\n",
    "X_train_idf, X_test_idf, y_train_idf, y_test_idf = train_test_split(dtm_idf,data_subset.iloc[:,-2])"
   ]
  },
  {
   "cell_type": "markdown",
   "id": "57959722-9a94-45f3-847a-5c4ba05351b8",
   "metadata": {},
   "source": [
    "## Naive Bayes Model Heat Map and Interpretation\n",
    "\n",
    "1. Naive Bayes Model and TF-IDF Matrix have almost all same Accuracy\n",
    "2. Product is getting confused with Tyre, Wiper"
   ]
  },
  {
   "cell_type": "code",
   "execution_count": 73,
   "id": "49f75483-f4c1-41b2-a698-9da821588c85",
   "metadata": {},
   "outputs": [
    {
     "data": {
      "image/png": "[encoded data removed]",
      "text/plain": [
       "<Figure size 1080x720 with 2 Axes>"
      ]
     },
     "metadata": {
      "needs_background": "light"
     },
     "output_type": "display_data"
    }
   ],
   "source": [
    "# Compute the confusion matrix and display it as a heatmap.\n",
    "conf_mat = confusion_matrix(y_test, y_pred)\n",
    "fig, ax = plt.subplots(figsize=(15,10))\n",
    "\n",
    "# neat heat map\n",
    "sns.heatmap(conf_mat , cmap=\"RdBu_r\", xticklabels = categories, yticklabels = categories)\n",
    "plt.ylabel('True values')\n",
    "plt.xlabel('Predicted values')\n",
    "plt.show()"
   ]
  },
  {
   "cell_type": "code",
   "execution_count": 74,
   "id": "a3f653e1-f6b5-4e9b-af41-ed0a1dc05633",
   "metadata": {},
   "outputs": [
    {
     "name": "stdout",
     "output_type": "stream",
     "text": [
      "CPU times: total: 219 ms\n",
      "Wall time: 212 ms\n",
      "Accuracy on TF is : 0.6032\n",
      "CPU times: total: 219 ms\n",
      "Wall time: 222 ms\n",
      "Accuracy on TF-IDF is : 0.6096\n"
     ]
    },
    {
     "data": {
      "image/png": "[encoded data removed]",
      "text/plain": [
       "<Figure size 1080x720 with 2 Axes>"
      ]
     },
     "metadata": {
      "needs_background": "light"
     },
     "output_type": "display_data"
    }
   ],
   "source": [
    "#Random Forest Classifier\n",
    "# Train the classifier on training data set\n",
    "clf = clf = RandomForestClassifier(n_estimators=50, max_depth=5,random_state=0)\n",
    "%time clf.fit(X_train,y_train)\n",
    "\n",
    "# Prediction accuracy on test dataset\n",
    "y_pred = clf.predict(X_test)\n",
    "print(\"Accuracy on TF is : \" + str(clf.score(X_test,y_test)))\n",
    "\n",
    "# Train and test the classifier on idf data set\n",
    "%time clf.fit(X_train_idf,y_train_idf)\n",
    "y_pref_idf = clf.predict(X_test_idf)\n",
    "print(\"Accuracy on TF-IDF is : \" + str(clf.score(X_test_idf,y_test_idf)))\n",
    "\n",
    "# Compute the confusion matrix and display it as a heatmap.\n",
    "conf_mat = confusion_matrix(y_test, y_pred)\n",
    "fig, ax = plt.subplots(figsize=(15,10))\n",
    "sns.heatmap(conf_mat , cmap=\"Blues\", xticklabels = categories, yticklabels = categories)\n",
    "plt.ylabel('True values')\n",
    "plt.xlabel('Predicted values')\n",
    "plt.show()"
   ]
  }
 ],
 "metadata": {
  "kernelspec": {
   "display_name": "Python 3 (ipykernel)",
   "language": "python",
   "name": "python3"
  },
  "language_info": {
   "codemirror_mode": {
    "name": "ipython",
    "version": 3
   },
   "file_extension": ".py",
   "mimetype": "text/x-python",
   "name": "python",
   "nbconvert_exporter": "python",
   "pygments_lexer": "ipython3",
   "version": "3.9.12"
  }
 },
 "nbformat": 4,
 "nbformat_minor": 5
}
